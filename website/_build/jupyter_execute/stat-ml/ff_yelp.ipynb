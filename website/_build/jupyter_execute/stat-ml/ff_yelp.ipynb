{
 "cells": [
  {
   "cell_type": "code",
   "execution_count": null,
   "id": "bcefb0b3",
   "metadata": {},
   "outputs": [],
   "source": []
  },
  {
   "cell_type": "markdown",
   "id": "62d03767",
   "metadata": {
    "tags": [
     "remove-cell"
    ],
    "title": "Macros Setup"
   },
   "source": [
    "$$\n",
    "\\newcommand{\\parens}[1]{\\mathopen{}\\left(#1\\right)\\mathclose{}}\n",
    "\\newcommand{\\bracks}[1]{\\mathopen{}\\left[#1\\right]\\mathclose{}}\n",
    "\\newcommand{\\braces}[1]{\\mathopen{}\\left\\{#1\\right\\}\\mathclose{}}\n",
    "\\newcommand{\\abs}[1]{\\mathopen{}\\left\\lvert#1\\right\\rvert\\mathclose{}}\n",
    "\\newcommand{\\norm}[1]{\\mathopen{}\\left\\lVert#1\\right\\rVert\\mathclose{}}\n",
    "\\renewcommand{\\vec}[1]{\\boldsymbol{\\mathbf{#1}}}\n",
    "\\newcommand{\\mat}[1]{\\mathbf{#1}}\n",
    "\\newcommand{\\tpose}[1]{#1^T}\n",
    "\\newcommand{\\inv}[1]{#1^{-1}}\n",
    "\\newcommand{\\Matrix}[1]{\n",
    "  \\begin{bmatrix}\n",
    "    #1\n",
    "  \\end{bmatrix}\n",
    "}\n",
    "\\newcommand{\\seq}[1]{1, 2, \\ldots, #1}\n",
    "\\newcommand{\\reals}{\\mathbb{R}}\n",
    "\\newcommand{\\mper}{\\,\\text{.}}\n",
    "\\newcommand{\\mcom}{\\,\\text{,}}\n",
    "$$"
   ]
  },
  {
   "cell_type": "markdown",
   "id": "1e2b9e04",
   "metadata": {
    "cell_marker": "\"\"\""
   },
   "source": [
    "(yelp)=\n",
    "# Farmer's Fridge Yelp Reviews Analysis\n",
    "\n",
    "## Summary\n",
    "\n",
    "Using data from 173 Yelp reviews for three major fridge locations, I examined trends like average ratings over time, item popularity, and common phrases mentioned in reviews.\n",
    "The results show that, pre-pandemic:\n",
    "\n",
    "1. The airport location had more and, on average, better ratings while it was active\n",
    "2. Salad popularity decreased over time while bowl and sandwich popularities increased, but salads are still by far the most popular type of item\n",
    "\n",
    "Common positive phrases include \"healthy\", \"good\", and \"fresh\", while analysis of negative reviews suggests price and portion sizes factored into their low ratings.\n",
    "\n",
    "```{note}\n",
    "You can run and modify the code on this page Jupyter Notebook style, but without leaving the page!\n",
    "Hover over the {fa}`rocket` launch button at the top of the page, then click the {guilabel}`Live Code` button.\n",
    "Once you see \"Launching from mybinder.org: ready\", you can run code cells.\n",
    "Refresh the page to revert to the original view.\n",
    "```\n",
    "\n",
    "## Data Source\n",
    "\n",
    "I scraped Yelp reviews using the Selenium package on 6/20/2021.\n",
    "Data include rating (1 out of 5 stars), the main text of the review, and metadata like the the number of Yelp reviews a user has given or the number of people who found a review useful.\n",
    "Each review constitutes a row in the `yelp.csv` file, with each piece of data (rating, text, etc.) as a separate column.\n",
    "\n",
    "I scraped three different Chicago fridges.\n",
    "I found the locations by manually navigating Yelp's website and searching for \"farmer's fridge\" in Chicago and selecting fridges with > 10 reviews.\n",
    "The three fridges have [93 reviews](https://www.yelp.com/biz/farmers-fridge-chicago-13), [23 reviews](https://www.yelp.com/biz/farmers-fridge-chicago-14), and [57 reviews](https://www.yelp.com/biz/farmers-fridge-chicago-87) for a total of 173 reviews.\n",
    "Two fridges are located in The Loop, while the third location with 57 reviews is located in O'Hare International Airport.\n",
    "\n",
    "My complete code to scrape the reviews can be toggled below, but is not the main focus of this writeup."
   ]
  },
  {
   "cell_type": "markdown",
   "id": "7a38c3db",
   "metadata": {},
   "source": [
    "\n",
    "````{toggle}\n",
    "```python\n",
    "from selenium import webdriver\n",
    "from selenium.common.exceptions import NoSuchElementException\n",
    "import time\n",
    "import csv\n",
    "\n",
    "def scrape_reviews(yelp_url, sleep_time=1):\n",
    "    \"\"\"Retrieve all text data from reviews, including star rating.\n",
    "    Sleep between pages of reviews so the html loads before accessing data.\"\"\"\n",
    "    browser = webdriver.Firefox()\n",
    "    browser.get(yelp_url)\n",
    "\n",
    "    all_reviews = []\n",
    "    more_pages_exist = True\n",
    "    while more_pages_exist:\n",
    "        time.sleep(sleep_time)  # Wait for page to load\n",
    "        reviews = get_reviews_on_page(browser)\n",
    "        all_reviews.extend(reviews)\n",
    "        click_succeeded = click_on_next_page(browser)\n",
    "        if not click_succeeded:\n",
    "            more_pages_exist = False\n",
    "    return all_reviews\n",
    "\n",
    "def get_reviews_on_page(browser):\n",
    "    \"\"\"Extract reviews on a Yelp page.\"\"\"\n",
    "    reviews = []\n",
    "    review_num = 1\n",
    "    more_reviews_exist = True\n",
    "    while more_reviews_exist:\n",
    "        try:\n",
    "            review = browser.find_element_by_xpath(\n",
    "                \"/html/body/div[2]/div[2]/yelp-react-root/div/div[3]/div/div\"\n",
    "                + \"/div[2]/div/div[1]/div[2]/section[2]/div[2]/div/ul\"\n",
    "                + \"/li[\" + str(review_num) + \"]\"\n",
    "                + \"/div\"\n",
    "            )\n",
    "            rating = browser.find_element_by_xpath(\n",
    "                \"/html/body/div[2]/div[2]/yelp-react-root/div/div[3]/div/div/\"\n",
    "                + \"div[2]/div/div[1]/div[2]/section[2]/div[2]/div/ul\"\n",
    "                + \"/li[\" + str(review_num) + \"]\"\n",
    "                + \"/div/div[2]/div/div[1]/span/div\"\n",
    "            ).get_attribute('aria-label')\n",
    "\n",
    "            reviews.append(rating + \"\\n\" + review.text)\n",
    "            review_num += 1\n",
    "        except NoSuchElementException:  # No more reviews on page\n",
    "            more_reviews_exist = False\n",
    "    return reviews\n",
    "\n",
    "def click_on_next_page(browser):\n",
    "    \"\"\"Click on the next page of Yelp reviews, if it exists. Returns\n",
    "    whether the next page exists.\"\"\"\n",
    "    try:\n",
    "        next_page_button = browser.find_element_by_css_selector(\n",
    "            '.next-link'\n",
    "        )\n",
    "        next_page_button.click()\n",
    "        return True\n",
    "    except NoSuchElementException:\n",
    "        return False\n",
    "\n",
    "def write_to_csv(file_name, reviews, append=False, location=''):\n",
    "    \"\"\"Write the following data as columns in a csv file:\n",
    "        - rating (1 to 5 scale)\n",
    "        - reviewer data: name, location, number of friends, number of\n",
    "            reviews, and number of photos\n",
    "        - review data: date of review, updated or not, review text,\n",
    "            number of people who found the review useful, funny, and cool\n",
    "    \"\"\"\n",
    "    mode = 'a' if append else 'w'\n",
    "    with open(file_name, mode, newline='') as file:\n",
    "        writer = csv.writer(file)\n",
    "\n",
    "        if not append:\n",
    "            header = [\n",
    "                'rating',\n",
    "                'name',\n",
    "                'elite',\n",
    "                'reviewer_location',\n",
    "                'n_friends',\n",
    "                'n_reviews',\n",
    "                'n_photos',\n",
    "                'review_photos',\n",
    "                'date',\n",
    "                'updated',\n",
    "                'text',\n",
    "                'n_useful',\n",
    "                'n_funny',\n",
    "                'n_cool'\n",
    "            ]\n",
    "            if location:\n",
    "                header.append('restaurant_location')\n",
    "            writer.writerow(header)\n",
    "\n",
    "        for review in reviews:\n",
    "            row = process_review(review)\n",
    "            if location:\n",
    "                row.append(location)\n",
    "            writer.writerow(row)\n",
    "\n",
    "def process_review(review):\n",
    "    \"\"\"Process the structure of a Yelp review line by line into a row\n",
    "    to be appended by the `write_to_csv()` function.\"\"\"\n",
    "    lines = review.split('\\n')\n",
    "    rating = lines.pop(0)[0]\n",
    "\n",
    "    # Reviewer data\n",
    "    name = lines.pop(0)\n",
    "    if is_elite(lines[0]):\n",
    "        elite = 'True'\n",
    "        lines.pop(0)\n",
    "    else:\n",
    "        elite = 'False'\n",
    "    location = lines.pop(0)\n",
    "    n_friends = lines.pop(0)\n",
    "    n_reviews = lines.pop(0)\n",
    "    if is_int(lines[0]):\n",
    "        n_photos = lines.pop(0)\n",
    "    else:\n",
    "        n_photos = 0\n",
    "\n",
    "    # Review data\n",
    "    date = lines.pop(0)\n",
    "    if is_updated_review(lines[0]):\n",
    "        updated = 'True'\n",
    "        lines.pop(0)\n",
    "    else:\n",
    "        updated = 'False'\n",
    "    if has_photos(lines[0], single=True):\n",
    "        review_photos = '1'\n",
    "        lines.pop(0)\n",
    "    elif has_photos(lines[0], single=False):\n",
    "        review_photos = strip_nonint(lines[0], 'photos')\n",
    "        lines.pop(0)\n",
    "    else:\n",
    "        review_photos = 0\n",
    "    end_of_review_text = find_end_of_review_text(lines)\n",
    "    text = '\\n'.join(lines[:end_of_review_text])\n",
    "    n_useful = strip_nonint(lines[end_of_review_text], 'Useful')\n",
    "    n_funny = strip_nonint(lines[end_of_review_text + 1], 'Funny')\n",
    "    n_cool = strip_nonint(lines[end_of_review_text + 2], 'Cool')\n",
    "\n",
    "    row = [\n",
    "        rating,\n",
    "        name,\n",
    "        elite,\n",
    "        location,\n",
    "        n_friends,\n",
    "        n_reviews,\n",
    "        n_photos,\n",
    "        review_photos,\n",
    "        date,\n",
    "        updated,\n",
    "        text,\n",
    "        n_useful,\n",
    "        n_funny,\n",
    "        n_cool\n",
    "    ]\n",
    "    return row\n",
    "\n",
    "def find_end_of_review_text(lines):\n",
    "    \"\"\"Find which line the main text of a review ends.\"\"\"\n",
    "    for i in range(len(lines) - 2):\n",
    "        line1 = lines[i]\n",
    "        line2 = lines[i + 1]\n",
    "        line3 = lines[i + 2]\n",
    "        if (line1.startswith('Useful')\n",
    "                and line2.startswith('Funny')\n",
    "                and line3.startswith('Cool')):\n",
    "            return i\n",
    "\n",
    "    print(\"Warning: no expected end of text found.\")\n",
    "\n",
    "def is_elite(string):\n",
    "    \"\"\"Determine if given string is an elite Yelp user.\"\"\"\n",
    "    return string.startswith(\"Elite\")\n",
    "\n",
    "def is_int(string):\n",
    "    \"\"\"Determine if given string is an integer.\"\"\"\n",
    "    try:\n",
    "        int(string)\n",
    "        return True\n",
    "    except ValueError:\n",
    "        return False\n",
    "\n",
    "def has_photos(string, single=False):\n",
    "    \"\"\"Determine if given string ends in 'photo' or 'photos'.\"\"\"\n",
    "    if single:\n",
    "        return string.endswith('photo')\n",
    "    else:\n",
    "        return string.endswith('photos')\n",
    "\n",
    "def is_updated_review(string):\n",
    "    \"\"\"Determine if given string indicates an updated Yelp review.\"\"\"\n",
    "    return string == \"Updated review\"\n",
    "\n",
    "def strip_nonint(string, word_to_strip):\n",
    "    \"\"\"Strip words and spaces from a string, keeping non-integer parts\n",
    "    after stripping. If the remaining piece is not an integer, return '0'.\n",
    "    So, 'Useful 12' becomes '12' while 'Useful' becomes '0'.\"\"\"\n",
    "    stripped = string.strip(word_to_strip).strip(' ')\n",
    "    if is_int(stripped):\n",
    "        return stripped\n",
    "    else:\n",
    "        return '0'\n",
    "\n",
    "\n",
    "if __name__ == '__main__':\n",
    "    url_location_pairs = [\n",
    "        ('https://www.yelp.com/biz/farmers-fridge-chicago-13', 'The Loop 1'),\n",
    "        ('https://www.yelp.com/biz/farmers-fridge-chicago-14', 'The Loop 2'),\n",
    "        ('https://www.yelp.com/biz/farmers-fridge-chicago-87', \"O'Hare Airport\"),\n",
    "    ]\n",
    "    file_name = 'yelp.csv'\n",
    "\n",
    "    counter = 1  # Determine when to write to a new file or append to existing one\n",
    "    for url, location in url_location_pairs:\n",
    "        print(f\"Scraping url number {counter}\")\n",
    "        reviews = scrape_reviews(url)\n",
    "        if counter == 1:\n",
    "            write_to_csv(file_name, reviews, append=False, location=location)\n",
    "        elif counter > 1:\n",
    "            write_to_csv(file_name, reviews, append=True, location=location)\n",
    "        counter += 1\n",
    "```\n",
    "````"
   ]
  },
  {
   "cell_type": "markdown",
   "id": "4e724b32",
   "metadata": {
    "cell_marker": "\"\"\""
   },
   "source": [
    "## Data Cleaning and Exploration\n",
    "\n",
    "Let’s load in the data and examine it:"
   ]
  },
  {
   "cell_type": "code",
   "execution_count": 1,
   "id": "964f2c75",
   "metadata": {},
   "outputs": [
    {
     "data": {
      "text/html": [
       "<div>\n",
       "<style scoped>\n",
       "    .dataframe tbody tr th:only-of-type {\n",
       "        vertical-align: middle;\n",
       "    }\n",
       "\n",
       "    .dataframe tbody tr th {\n",
       "        vertical-align: top;\n",
       "    }\n",
       "\n",
       "    .dataframe thead th {\n",
       "        text-align: right;\n",
       "    }\n",
       "</style>\n",
       "<table border=\"1\" class=\"dataframe\">\n",
       "  <thead>\n",
       "    <tr style=\"text-align: right;\">\n",
       "      <th></th>\n",
       "      <th>rating</th>\n",
       "      <th>name</th>\n",
       "      <th>elite</th>\n",
       "      <th>reviewer_location</th>\n",
       "      <th>n_friends</th>\n",
       "      <th>n_reviews</th>\n",
       "      <th>n_photos</th>\n",
       "      <th>review_photos</th>\n",
       "      <th>date</th>\n",
       "      <th>updated</th>\n",
       "      <th>text</th>\n",
       "      <th>n_useful</th>\n",
       "      <th>n_funny</th>\n",
       "      <th>n_cool</th>\n",
       "      <th>business_location</th>\n",
       "    </tr>\n",
       "  </thead>\n",
       "  <tbody>\n",
       "    <tr>\n",
       "      <th>0</th>\n",
       "      <td>5</td>\n",
       "      <td>Josh C.</td>\n",
       "      <td>True</td>\n",
       "      <td>Chicago, IL</td>\n",
       "      <td>215</td>\n",
       "      <td>22</td>\n",
       "      <td>129</td>\n",
       "      <td>9</td>\n",
       "      <td>1/9/2021</td>\n",
       "      <td>False</td>\n",
       "      <td>We received a Farmer's Fridge delivery straigh...</td>\n",
       "      <td>0</td>\n",
       "      <td>0</td>\n",
       "      <td>1</td>\n",
       "      <td>The Loop 1</td>\n",
       "    </tr>\n",
       "    <tr>\n",
       "      <th>1</th>\n",
       "      <td>5</td>\n",
       "      <td>Jim Z.</td>\n",
       "      <td>False</td>\n",
       "      <td>Napa, CA</td>\n",
       "      <td>0</td>\n",
       "      <td>25</td>\n",
       "      <td>8</td>\n",
       "      <td>0</td>\n",
       "      <td>5/19/2021</td>\n",
       "      <td>False</td>\n",
       "      <td>Repeat buyer... awesome food, great service......</td>\n",
       "      <td>0</td>\n",
       "      <td>0</td>\n",
       "      <td>0</td>\n",
       "      <td>The Loop 1</td>\n",
       "    </tr>\n",
       "    <tr>\n",
       "      <th>2</th>\n",
       "      <td>5</td>\n",
       "      <td>Kathy L.</td>\n",
       "      <td>False</td>\n",
       "      <td>New Berlin, WI</td>\n",
       "      <td>0</td>\n",
       "      <td>2</td>\n",
       "      <td>0</td>\n",
       "      <td>0</td>\n",
       "      <td>4/2/2021</td>\n",
       "      <td>False</td>\n",
       "      <td>So happy I found Farmers Fridge in MKE airport...</td>\n",
       "      <td>0</td>\n",
       "      <td>0</td>\n",
       "      <td>0</td>\n",
       "      <td>The Loop 1</td>\n",
       "    </tr>\n",
       "    <tr>\n",
       "      <th>3</th>\n",
       "      <td>5</td>\n",
       "      <td>Regina X.</td>\n",
       "      <td>True</td>\n",
       "      <td>Seattle, WA</td>\n",
       "      <td>521</td>\n",
       "      <td>220</td>\n",
       "      <td>432</td>\n",
       "      <td>0</td>\n",
       "      <td>9/1/2019</td>\n",
       "      <td>False</td>\n",
       "      <td>The business stock photos did not prepare me f...</td>\n",
       "      <td>0</td>\n",
       "      <td>0</td>\n",
       "      <td>0</td>\n",
       "      <td>The Loop 1</td>\n",
       "    </tr>\n",
       "    <tr>\n",
       "      <th>4</th>\n",
       "      <td>1</td>\n",
       "      <td>Alice J.</td>\n",
       "      <td>False</td>\n",
       "      <td>Oak Park, IL</td>\n",
       "      <td>0</td>\n",
       "      <td>23</td>\n",
       "      <td>1</td>\n",
       "      <td>0</td>\n",
       "      <td>8/14/2020</td>\n",
       "      <td>False</td>\n",
       "      <td>$8 for a salad in a jar.\\n$8.\\nThis is ridicul...</td>\n",
       "      <td>0</td>\n",
       "      <td>3</td>\n",
       "      <td>0</td>\n",
       "      <td>The Loop 1</td>\n",
       "    </tr>\n",
       "  </tbody>\n",
       "</table>\n",
       "</div>"
      ],
      "text/plain": [
       "   rating       name  elite reviewer_location  n_friends  n_reviews  n_photos  \\\n",
       "0       5    Josh C.   True       Chicago, IL        215         22       129   \n",
       "1       5     Jim Z.  False          Napa, CA          0         25         8   \n",
       "2       5   Kathy L.  False    New Berlin, WI          0          2         0   \n",
       "3       5  Regina X.   True       Seattle, WA        521        220       432   \n",
       "4       1   Alice J.  False      Oak Park, IL          0         23         1   \n",
       "\n",
       "   review_photos       date  updated  \\\n",
       "0              9   1/9/2021    False   \n",
       "1              0  5/19/2021    False   \n",
       "2              0   4/2/2021    False   \n",
       "3              0   9/1/2019    False   \n",
       "4              0  8/14/2020    False   \n",
       "\n",
       "                                                text  n_useful  n_funny  \\\n",
       "0  We received a Farmer's Fridge delivery straigh...         0        0   \n",
       "1  Repeat buyer... awesome food, great service......         0        0   \n",
       "2  So happy I found Farmers Fridge in MKE airport...         0        0   \n",
       "3  The business stock photos did not prepare me f...         0        0   \n",
       "4  $8 for a salad in a jar.\\n$8.\\nThis is ridicul...         0        3   \n",
       "\n",
       "   n_cool business_location  \n",
       "0       1        The Loop 1  \n",
       "1       0        The Loop 1  \n",
       "2       0        The Loop 1  \n",
       "3       0        The Loop 1  \n",
       "4       0        The Loop 1  "
      ]
     },
     "execution_count": 1,
     "metadata": {},
     "output_type": "execute_result"
    }
   ],
   "source": [
    "\n",
    "import pandas as pd\n",
    "\n",
    "df = pd.read_csv(\"yelp.csv\")\n",
    "df.head()"
   ]
  },
  {
   "cell_type": "markdown",
   "id": "fa0356c1",
   "metadata": {
    "cell_marker": "\"\"\""
   },
   "source": [
    "The important variables that will be used for this analysis are:\n",
    "\n",
    "1. `rating`: an integer rating between 1 (worst) and 5 (best)\n",
    "2. `date`: the date the review was posted on Yelp\n",
    "3. `text`: the main contents of the review\n",
    "4. `business_location`: the location of the fridge\n",
    "\n",
    "The others are not used, but some ideas how of how to use them are sketched in § [](yelp-future).\n",
    "\n",
    "It's much more convenient to work with datetime objects, so let's convert them:"
   ]
  },
  {
   "cell_type": "code",
   "execution_count": 2,
   "id": "801028be",
   "metadata": {},
   "outputs": [],
   "source": [
    "\n",
    "df.date = pd.to_datetime(df.date)"
   ]
  },
  {
   "cell_type": "markdown",
   "id": "7ad76afb",
   "metadata": {
    "cell_marker": "\"\"\""
   },
   "source": [
    "Now we can easily group reviews by year.\n",
    "Also grouping by fridge (i.e. business) location, we can count the number of reviews posted at each location in a given year:"
   ]
  },
  {
   "cell_type": "code",
   "execution_count": 3,
   "id": "41b25588",
   "metadata": {},
   "outputs": [
    {
     "data": {
      "text/html": [
       "<div>\n",
       "<style scoped>\n",
       "    .dataframe tbody tr th:only-of-type {\n",
       "        vertical-align: middle;\n",
       "    }\n",
       "\n",
       "    .dataframe tbody tr th {\n",
       "        vertical-align: top;\n",
       "    }\n",
       "\n",
       "    .dataframe thead th {\n",
       "        text-align: right;\n",
       "    }\n",
       "</style>\n",
       "<table border=\"1\" class=\"dataframe\">\n",
       "  <thead>\n",
       "    <tr style=\"text-align: right;\">\n",
       "      <th>business_location</th>\n",
       "      <th>O'Hare Airport</th>\n",
       "      <th>The Loop 1</th>\n",
       "      <th>The Loop 2</th>\n",
       "    </tr>\n",
       "    <tr>\n",
       "      <th>date</th>\n",
       "      <th></th>\n",
       "      <th></th>\n",
       "      <th></th>\n",
       "    </tr>\n",
       "  </thead>\n",
       "  <tbody>\n",
       "    <tr>\n",
       "      <th>2013</th>\n",
       "      <td>NaN</td>\n",
       "      <td>13.0</td>\n",
       "      <td>NaN</td>\n",
       "    </tr>\n",
       "    <tr>\n",
       "      <th>2014</th>\n",
       "      <td>NaN</td>\n",
       "      <td>21.0</td>\n",
       "      <td>NaN</td>\n",
       "    </tr>\n",
       "    <tr>\n",
       "      <th>2015</th>\n",
       "      <td>NaN</td>\n",
       "      <td>22.0</td>\n",
       "      <td>NaN</td>\n",
       "    </tr>\n",
       "    <tr>\n",
       "      <th>2016</th>\n",
       "      <td>NaN</td>\n",
       "      <td>19.0</td>\n",
       "      <td>5.0</td>\n",
       "    </tr>\n",
       "    <tr>\n",
       "      <th>2017</th>\n",
       "      <td>10.0</td>\n",
       "      <td>5.0</td>\n",
       "      <td>6.0</td>\n",
       "    </tr>\n",
       "    <tr>\n",
       "      <th>2018</th>\n",
       "      <td>24.0</td>\n",
       "      <td>5.0</td>\n",
       "      <td>6.0</td>\n",
       "    </tr>\n",
       "    <tr>\n",
       "      <th>2019</th>\n",
       "      <td>19.0</td>\n",
       "      <td>3.0</td>\n",
       "      <td>5.0</td>\n",
       "    </tr>\n",
       "    <tr>\n",
       "      <th>2020</th>\n",
       "      <td>4.0</td>\n",
       "      <td>2.0</td>\n",
       "      <td>1.0</td>\n",
       "    </tr>\n",
       "    <tr>\n",
       "      <th>2021</th>\n",
       "      <td>NaN</td>\n",
       "      <td>3.0</td>\n",
       "      <td>NaN</td>\n",
       "    </tr>\n",
       "  </tbody>\n",
       "</table>\n",
       "</div>"
      ],
      "text/plain": [
       "business_location  O'Hare Airport  The Loop 1  The Loop 2\n",
       "date                                                     \n",
       "2013                          NaN        13.0         NaN\n",
       "2014                          NaN        21.0         NaN\n",
       "2015                          NaN        22.0         NaN\n",
       "2016                          NaN        19.0         5.0\n",
       "2017                         10.0         5.0         6.0\n",
       "2018                         24.0         5.0         6.0\n",
       "2019                         19.0         3.0         5.0\n",
       "2020                          4.0         2.0         1.0\n",
       "2021                          NaN         3.0         NaN"
      ]
     },
     "execution_count": 3,
     "metadata": {},
     "output_type": "execute_result"
    }
   ],
   "source": [
    "\n",
    "grouped_by_year_and_loc = df.groupby([df.date.dt.year, df.business_location])\n",
    "annual_counts = grouped_by_year_and_loc.rating.agg(\"count\").unstack()\n",
    "annual_counts"
   ]
  },
  {
   "cell_type": "code",
   "execution_count": 4,
   "id": "83da864b",
   "metadata": {},
   "outputs": [
    {
     "data": {
      "text/plain": [
       "[Text(0.5, 0, 'Year'), Text(0, 0.5, 'Number of Annual Reviews')]"
      ]
     },
     "execution_count": 4,
     "metadata": {},
     "output_type": "execute_result"
    },
    {
     "data": {
      "image/png": "[encoded data removed]",
      "text/plain": [
       "<Figure size 640x480 with 1 Axes>"
      ]
     },
     "metadata": {
      "filenames": {
       "image/png": "/home/adam/projects/website/website/_build/jupyter_execute/stat-ml/ff_yelp_10_1.png"
      }
     },
     "output_type": "display_data"
    }
   ],
   "source": [
    "\n",
    "ax = annual_counts.plot()\n",
    "ax.set(xlabel=\"Year\", ylabel=\"Number of Annual Reviews\")"
   ]
  },
  {
   "cell_type": "markdown",
   "id": "d8777616",
   "metadata": {
    "cell_marker": "\"\"\""
   },
   "source": [
    "The first Loop location seems to have been one of the first fridges, with reviews available in the same year the company was founded.\n",
    "The number of reviews per year begins to decline around 2016, coinciding with the opening up of the second Loop location.\n",
    "In 2017, a fridge location in O'Hare international airport opened up and became relatively popular.\n",
    "In 2020, when the effects of the COVID-19 pandemic drastically altered lives of Chicago residents, the number of reviews also drastically declined, continuing into 2021.\n",
    "\n",
    "If we're interested in annual trends over time, it may helpful to combine the two Loop locations to avoid aggregates from only 5 or fewer reviews:"
   ]
  },
  {
   "cell_type": "code",
   "execution_count": 5,
   "id": "6dd0256c",
   "metadata": {},
   "outputs": [
    {
     "data": {
      "text/plain": [
       "array([\"O'Hare Airport\", 'The Loop'], dtype=object)"
      ]
     },
     "execution_count": 5,
     "metadata": {},
     "output_type": "execute_result"
    }
   ],
   "source": [
    "\n",
    "import numpy as np\n",
    "\n",
    "\n",
    "def combine_loop_locations(locations):\n",
    "    combined_locations = []\n",
    "    for loc in locations:\n",
    "        if loc.startswith(\"The Loop\"):\n",
    "            combined_locations.append(\"The Loop\")\n",
    "        else:\n",
    "            combined_locations.append(loc)\n",
    "    return combined_locations\n",
    "\n",
    "\n",
    "df[\"combined_location\"] = combine_loop_locations(df.business_location)\n",
    "np.unique(df.combined_location)"
   ]
  },
  {
   "cell_type": "markdown",
   "id": "743157cf",
   "metadata": {
    "cell_marker": "\"\"\""
   },
   "source": [
    "\n",
    "## Exploratory Data Analysis\n",
    "\n",
    "This section examines a few specific questions, focusing on graphical presentation and inuition rather than formal statistical tests.\n",
    "These analyses can help inform what avenues Farmer's Fridge could look into in the future and serve as a foundation for more detailed analyses later.\n",
    "\n",
    "### Ratings Over Time\n",
    "\n",
    "A plot of annual ratings over time, grouped by location, can be constructed by grouping by the relevant variables and invoking the `.plot()` method.\n",
    "In addition, I'll overlay points with sizes proportional to the number of reviews.\n",
    "This allows us to quickly weight large points more than small points.\n",
    "This is important especially for 2020 and 2021 when there is very little data;\n",
    "for example, the 5/5 rating data for the Loop locations in 2021 is only based on 3 reviews."
   ]
  },
  {
   "cell_type": "code",
   "execution_count": 6,
   "id": "ce6dc441",
   "metadata": {
    "lines_to_next_cell": 2
   },
   "outputs": [
    {
     "data": {
      "image/png": "[encoded data removed]",
      "text/plain": [
       "<Figure size 640x480 with 1 Axes>"
      ]
     },
     "metadata": {
      "filenames": {
       "image/png": "/home/adam/projects/website/website/_build/jupyter_execute/stat-ml/ff_yelp_14_0.png"
      }
     },
     "output_type": "display_data"
    }
   ],
   "source": [
    "\n",
    "import matplotlib.pyplot as plt\n",
    "\n",
    "grouped_by_year_and_loc = df.groupby([df.date.dt.year, df.combined_location])\n",
    "annual_ratings = grouped_by_year_and_loc.rating.agg(\"mean\").unstack()\n",
    "annual_counts = grouped_by_year_and_loc.rating.agg(\"count\").unstack()\n",
    "\n",
    "ax = annual_ratings.plot()\n",
    "ax.set(xlabel=\"Year\", ylabel=\"Average Annual Rating (1 to 5)\")\n",
    "for i, loc in enumerate(annual_ratings.columns):\n",
    "    col = \"C\" + str(i)\n",
    "    point_sizes = [5 * count for count in annual_counts[loc]]\n",
    "    ax.scatter(annual_ratings.index, annual_ratings[loc], s=point_sizes, c=col)"
   ]
  },
  {
   "cell_type": "markdown",
   "id": "d4929409",
   "metadata": {
    "cell_marker": "\"\"\""
   },
   "source": [
    "There appears to have been a steady decline in rating throughout 2016.\n",
    "In 2017, the Loop location's rating fell substantially but the introduction of the O'Hare location was a success.\n",
    "The Loop location rebounded somewhat and the O'Hare location continued to see success, until the pandemic hit, drastically lowering the number of ratings available in 2020 and 2021.\n",
    "\n",
    "### What Items are Popular?\n",
    "\n",
    "A simple analysis assumes a correlation between the number of mentions of an item and its popularity.\n",
    "I've grouped the items like Farmer's Fridge's [website menu](https://www.farmersfridge.com/menu), as well as words that are likely to belong in that grouping. Terms synonymous with salad, for example, are"
   ]
  },
  {
   "cell_type": "code",
   "execution_count": 7,
   "id": "bf72f06f",
   "metadata": {},
   "outputs": [],
   "source": [
    "\n",
    "salads = [\n",
    "    \"Smoked Cheddar Cobb Salad\",\n",
    "    \"Buffalo Chicken Ranch Salad\",\n",
    "    \"Elote Salad\",\n",
    "    \"North Napa Salad\",\n",
    "    \"Grilled Chicken Caesar Salad\",\n",
    "    \"Southwest Salad with Chipotle Chicken\",\n",
    "    \"Green Goddess Salad\",\n",
    "    \"Greek Salad\",\n",
    "    \"Salad\",\n",
    "]"
   ]
  },
  {
   "cell_type": "markdown",
   "id": "96125020",
   "metadata": {
    "cell_marker": "\"\"\""
   },
   "source": [
    "The other groupings are defind as follows:"
   ]
  },
  {
   "cell_type": "code",
   "execution_count": 8,
   "id": "0569a37f",
   "metadata": {
    "tags": [
     "hide-input"
    ]
   },
   "outputs": [],
   "source": [
    "\n",
    "bowls = [\n",
    "    \"Apple Cinnamon Oats\",\n",
    "    \"Falafel Bowl\",\n",
    "    \"Pesto Pasta Bowl\",\n",
    "    \"Thai Noodle Bowl\",\n",
    "    \"Burrito Bowl\",\n",
    "    \"Red Chile Braised Pork Bowl by Rick Bayless\",\n",
    "    \"Pineapple Coconut Chia Pudding\",\n",
    "    \"Berries & Granola Greek Yogurt\",\n",
    "    \"Almond Butter Oats Bowl\",\n",
    "    \"Chickpea Tikka Masala\",\n",
    "    \"Chicken Tikka Masala\",\n",
    "    \"Grilled Chicken & Veggie Bowl\",\n",
    "    \"Truffle Couscous with Chicken\" \"Bowl\",\n",
    "    \"oats\",\n",
    "    \"yogurt\",\n",
    "]\n",
    "sandwiches = [\n",
    "    \"Italian Turkey Wrap\",\n",
    "    \"Turkey, Apple & White Cheddar Wrap\",\n",
    "    \"Sandwich\",\n",
    "    \"Wrap\",\n",
    "]\n",
    "snacks = [\n",
    "    \"White Cheddar Cheese\",\n",
    "    \"Cookie Dough Bites\",\n",
    "    \"Dark Chocolate Trail Mix\",\n",
    "    \"Chips & Guac\",\n",
    "    \"snack\",\n",
    "    \"trail\",\n",
    "    \"dough\",\n",
    "]\n",
    "proteins = [\n",
    "    \"Falafel\",\n",
    "    \"Grilled Chicken\",\n",
    "]\n",
    "drinks = [\n",
    "    \"La Colombe Vanilla Draft Latte\",\n",
    "    \"La Colombe Triple Draft Latte\",\n",
    "    \"Brew Dr. Kombucha Love\",\n",
    "    \"Spindrift Raspberry Lime\",\n",
    "    \"drink\",\n",
    "]"
   ]
  },
  {
   "cell_type": "markdown",
   "id": "a85c52ca",
   "metadata": {
    "cell_marker": "\"\"\""
   },
   "source": [
    "With the item groups defined, let's count unique mentions of each group:"
   ]
  },
  {
   "cell_type": "code",
   "execution_count": 9,
   "id": "37a83098",
   "metadata": {},
   "outputs": [
    {
     "data": {
      "text/plain": [
       "{'salads': 0.7052023121387283,\n",
       " 'bowls': 0.10404624277456648,\n",
       " 'sandwiches': 0.07514450867052024,\n",
       " 'snacks': 0.10982658959537572,\n",
       " 'proteins': 0.023121387283236993,\n",
       " 'drinks': 0.005780346820809248}"
      ]
     },
     "execution_count": 9,
     "metadata": {},
     "output_type": "execute_result"
    }
   ],
   "source": [
    "\n",
    "\n",
    "def count_item_mentions(reviews, item_group):\n",
    "    \"\"\"Compute percentage of times an item in `item_group` is mentioned\n",
    "    in a review.\"\"\"\n",
    "    count = 0\n",
    "    for text in reviews:\n",
    "        text = text.lower()\n",
    "        for item in item_group:\n",
    "            item = item.lower()\n",
    "            if item in text:\n",
    "                count += 1\n",
    "                break\n",
    "    return count / len(reviews)\n",
    "\n",
    "\n",
    "item_mention_counts = {\n",
    "    \"salads\": count_item_mentions(df.text, salads),\n",
    "    \"bowls\": count_item_mentions(df.text, bowls),\n",
    "    \"sandwiches\": count_item_mentions(df.text, sandwiches),\n",
    "    \"snacks\": count_item_mentions(df.text, snacks),\n",
    "    \"proteins\": count_item_mentions(df.text, proteins),\n",
    "    \"drinks\": count_item_mentions(df.text, drinks),\n",
    "}\n",
    "item_mention_counts"
   ]
  },
  {
   "cell_type": "code",
   "execution_count": 10,
   "id": "16849b9e",
   "metadata": {},
   "outputs": [
    {
     "data": {
      "text/plain": [
       "[Text(0.5, 0, 'Fraction of times mentioned in a review')]"
      ]
     },
     "execution_count": 10,
     "metadata": {},
     "output_type": "execute_result"
    },
    {
     "data": {
      "image/png": "[encoded data removed]",
      "text/plain": [
       "<Figure size 640x480 with 1 Axes>"
      ]
     },
     "metadata": {
      "filenames": {
       "image/png": "/home/adam/projects/website/website/_build/jupyter_execute/stat-ml/ff_yelp_21_1.png"
      }
     },
     "output_type": "display_data"
    }
   ],
   "source": [
    "\n",
    "fig, ax = plt.subplots()\n",
    "ax.barh(list(item_mention_counts.keys()), list(item_mention_counts.values()))\n",
    "ax.set(xlabel=\"Fraction of times mentioned in a review\")"
   ]
  },
  {
   "cell_type": "markdown",
   "id": "5a988ae0",
   "metadata": {
    "cell_marker": "\"\"\""
   },
   "source": [
    "Salads are the overwhelming favorite.\n",
    "Have these trends changed over time?\n",
    "Below is the annual share for each item type, i.e. the fraction of times an item was mentioned in a review for a given year.\n",
    "Weighting by total number of reviews that year is again used."
   ]
  },
  {
   "cell_type": "code",
   "execution_count": 11,
   "id": "ccc298cf",
   "metadata": {
    "tags": [
     "hide-input"
    ]
   },
   "outputs": [
    {
     "data": {
      "image/png": "[encoded data removed]",
      "text/plain": [
       "<Figure size 960x720 with 4 Axes>"
      ]
     },
     "metadata": {
      "filenames": {
       "image/png": "/home/adam/projects/website/website/_build/jupyter_execute/stat-ml/ff_yelp_23_0.png"
      }
     },
     "output_type": "display_data"
    }
   ],
   "source": [
    "\n",
    "\n",
    "def annual_item_share_plot(ax, item_group, title):\n",
    "    annual_share = grouped_by_year_and_loc.text.apply(\n",
    "        count_item_mentions, item_group=item_group\n",
    "    ).unstack()\n",
    "    annual_share.plot(ax=ax)\n",
    "    ax.set(xlabel=\"Year\", ylabel=\"Annual share\", title=title)\n",
    "    for i, loc in enumerate(annual_counts.columns):\n",
    "        col = \"C\" + str(i)\n",
    "        point_sizes = [5 * count for count in annual_counts[loc]]\n",
    "        ax.scatter(annual_share.index, annual_share[loc], s=point_sizes, c=col)\n",
    "\n",
    "\n",
    "fig, axs = plt.subplots(nrows=2, ncols=2, figsize=(9.6, 7.2), sharex=True, sharey=True)\n",
    "annual_item_share_plot(axs[0][0], salads, \"Salad Popularity\")\n",
    "annual_item_share_plot(axs[0][1], bowls, \"Bowl Popularity\")\n",
    "annual_item_share_plot(axs[1][0], sandwiches, \"Sandwich Popularity\")\n",
    "annual_item_share_plot(axs[1][1], snacks, \"Snack Popularity\")"
   ]
  },
  {
   "cell_type": "markdown",
   "id": "187b00ff",
   "metadata": {
    "cell_marker": "\"\"\""
   },
   "source": [
    "Salad popularity has been decreasing, but still has the largest share.\n",
    "Bowl popularity seems to have the opposite trend, though still have a smaller share.\n",
    "Sandwiches seem popular at airports, with a sudden drop in 2020 (perhaps due to the pandemic, as sandwiches are not usually eaten with utensils?)\n",
    "Finally, snacks were initially popular (perhaps because of vending machine familiarity?) but have somewhat declined, except for 2021 where there are only 3 data points.\n",
    "\n",
    "### What Phrases are Common?\n",
    "\n",
    "We can answer this question with more sophisticated language processing.\n",
    "Using NLTK, the Natural Language Toolkit, we can parse out individual words in a string of unstructured text, or more generally ngrams that contain n words strung together.\n",
    "Before any of that, let's define a function that combines all the reviews in the `df.text` column of a dataframe:"
   ]
  },
  {
   "cell_type": "code",
   "execution_count": 12,
   "id": "7588969b",
   "metadata": {},
   "outputs": [
    {
     "name": "stdout",
     "output_type": "stream",
     "text": [
      "We received a Farmer's Fridge delivery straight to our doors! We got a text when the driver was close and when the delivery was made. It was so easy and super convenient.\n",
      "\n",
      "Their menu includes everything from salads to breakfast items to dinner plates and snacks. We received a variety and not only was it delicious, it was healthy and filling! Salads are typically not our first choice, but we were so impressed with how much flavor was packed into each one and am already craving them again!\n",
      "\n",
      "We have tried other meal delivery services but were impressed with Farmer's Fridge the most. The convenience of the order, the ease of preparing the meal, and the overall quality and healthy options puts them above the competition. We can't wait to try more of their menu! Already eyeing the Buffalo Mac & Cheese and the Enchilada Roja plates......\n",
      "See all photos from Josh C. for Farmer's Fridge\n",
      "\n",
      "\n",
      "Repeat buyer... awesome food, great service... highly recommend!!! AAAA ++++\n",
      "The salads are fresh and very tasty\n",
      "\n",
      "\n",
      "So happy I found Farmers Fridge in MKE airport!!!! As a flight attendant it was wonderful finding their  \"fridge\" full of many, many fresh, nutritional and delicious food items!!  I couldn't d\n"
     ]
    }
   ],
   "source": [
    "\n",
    "\n",
    "def combine_review_text(df):\n",
    "    review_text = \"\"\n",
    "    for text in df.text:\n",
    "        review_text += text + \"\\n\" * 3\n",
    "    return review_text\n",
    "\n",
    "\n",
    "text = combine_review_text(df)\n",
    "print(text[:1200])"
   ]
  },
  {
   "cell_type": "markdown",
   "id": "a642529b",
   "metadata": {
    "cell_marker": "\"\"\""
   },
   "source": [
    "Next, let's import `nltk` and get a list of words.\n",
    "Technically in language processing terms, we are extracting *tokens*, since objects like punctuation are retained.\n",
    "It's also useful to drop the most common words like \"to\", \"then\", and \"the\" using `nltk`'s library of English stop words and convert everything to lowercase for simplicity (must download stopwords and punk):"
   ]
  },
  {
   "cell_type": "code",
   "execution_count": 13,
   "id": "e446f566",
   "metadata": {},
   "outputs": [
    {
     "name": "stderr",
     "output_type": "stream",
     "text": [
      "[nltk_data] Downloading package stopwords to\n",
      "[nltk_data]     /home/adam/projects/website/env/nltk_data...\n",
      "[nltk_data]   Package stopwords is already up-to-date!\n",
      "[nltk_data] Downloading package punkt to\n",
      "[nltk_data]     /home/adam/projects/website/env/nltk_data...\n",
      "[nltk_data]   Package punkt is already up-to-date!\n"
     ]
    },
    {
     "data": {
      "text/plain": [
       "['received',\n",
       " 'farmer',\n",
       " \"'s\",\n",
       " 'fridge',\n",
       " 'delivery',\n",
       " 'straight',\n",
       " 'doors',\n",
       " '!',\n",
       " 'got',\n",
       " 'text',\n",
       " 'driver',\n",
       " 'close']"
      ]
     },
     "execution_count": 13,
     "metadata": {},
     "output_type": "execute_result"
    }
   ],
   "source": [
    "\n",
    "\n",
    "import nltk\n",
    "\n",
    "nltk.download(\"stopwords\")\n",
    "nltk.download(\"punkt\")\n",
    "from nltk.corpus import stopwords\n",
    "\n",
    "stop_words = set(stopwords.words(\"english\"))\n",
    "words = nltk.word_tokenize(text)\n",
    "filtered_lowercase_words = []\n",
    "for word in words:\n",
    "    word = word.lower()\n",
    "    if word not in stop_words:\n",
    "        filtered_lowercase_words.append(word)\n",
    "filtered_lowercase_words[:12]"
   ]
  },
  {
   "cell_type": "markdown",
   "id": "b4dd2356",
   "metadata": {
    "cell_marker": "\"\"\""
   },
   "source": [
    "The result is terse, but the meaning of sentences are maintained.\n",
    "\n",
    "Now we're ready to count the most common words and display them.\n",
    "I'll define functions for general ngrams for later use.\n",
    "So even though it is overkill to use a \"onegram\" for just a list of words we already have, I will for generalizibility."
   ]
  },
  {
   "cell_type": "code",
   "execution_count": 14,
   "id": "84ac1d37",
   "metadata": {},
   "outputs": [
    {
     "name": "stdout",
     "output_type": "stream",
     "text": [
      "('great',) 50\n",
      "('one',) 51\n",
      "('like',) 53\n",
      "('delicious',) 57\n",
      "('farmer',) 60\n",
      "('healthy',) 65\n",
      "('good',) 66\n",
      "('vending',) 77\n",
      "('fridge',) 85\n",
      "('salads',) 87\n",
      "('machine',) 92\n",
      "('fresh',) 97\n",
      "(\"n't\",) 100\n",
      "('food',) 111\n",
      "('salad',) 220\n"
     ]
    }
   ],
   "source": [
    "\n",
    "from nltk.util import ngrams\n",
    "\n",
    "\n",
    "def count_ngrams(ngrams):\n",
    "    \"\"\"Return a dictionary of ngram, count pairs.\"\"\"\n",
    "    counts = {}\n",
    "    for tuple in ngrams:\n",
    "        if tuple in counts:\n",
    "            counts[tuple] += 1\n",
    "        else:\n",
    "            counts[tuple] = 1\n",
    "    return counts\n",
    "\n",
    "\n",
    "def sort_dict_by_vals(dict):\n",
    "    sorted_dict = {k: v for k, v in sorted(dict.items(), key=lambda item: item[1])}\n",
    "    return sorted_dict\n",
    "\n",
    "\n",
    "def print_top_vals(ngram_counts, min_count, min_length):\n",
    "    \"\"\"Print ngrams with at least `min_count` counts and each component\n",
    "    exceeds `min_length` in characters.\"\"\"\n",
    "    for ngram, count in ngram_counts.items():\n",
    "        if each_elem_is_long_enough(ngram, min_length) and count >= min_count:\n",
    "            print(ngram, count)\n",
    "\n",
    "\n",
    "def each_elem_is_long_enough(tuple, min_length):\n",
    "    for elem in tuple:\n",
    "        if len(elem) < min_length:\n",
    "            return False\n",
    "    return True\n",
    "\n",
    "\n",
    "word_counts = list(ngrams(filtered_lowercase_words, 1))\n",
    "word_counts = sort_dict_by_vals(count_ngrams(word_counts))\n",
    "print_top_vals(word_counts, min_count=50, min_length=3)"
   ]
  },
  {
   "cell_type": "markdown",
   "id": "8efdf4fb",
   "metadata": {
    "cell_marker": "\"\"\""
   },
   "source": [
    "Unsurprisingly, salad is the most common word.\n",
    "Positive words include \"great\", \"like\", \"delicious\", \"healthy\", \"good\", and \"fresh\".\n",
    "Because the overall rating across all reviews is high, around 4.3, it's also unsurprising there are no negative words in the most frequent list.\n",
    "We can repeat the above for bigrams and trigrams, which are strings of two and three words, respectively."
   ]
  },
  {
   "cell_type": "code",
   "execution_count": 15,
   "id": "4a3bd634",
   "metadata": {},
   "outputs": [
    {
     "name": "stdout",
     "output_type": "stream",
     "text": [
      "(\"n't\", 'wait') 10\n",
      "('could', \"n't\") 10\n",
      "('southwest', 'salad') 10\n",
      "('napa', 'salad') 12\n",
      "('revival', 'food') 13\n",
      "('food', 'hall') 13\n",
      "('salad', 'vending') 15\n",
      "('vending', 'machines') 16\n",
      "('farmers', 'fridge') 19\n",
      "('vending', 'machine') 60\n"
     ]
    }
   ],
   "source": [
    "\n",
    "bigrams = list(ngrams(filtered_lowercase_words, 2))\n",
    "bigram_counts = sort_dict_by_vals(count_ngrams(bigrams))\n",
    "print_top_vals(bigram_counts, min_count=10, min_length=3)"
   ]
  },
  {
   "cell_type": "code",
   "execution_count": 16,
   "id": "f1c9e798",
   "metadata": {},
   "outputs": [
    {
     "name": "stdout",
     "output_type": "stream",
     "text": [
      "('north', 'napa', 'salad') 5\n",
      "('high', 'protein', 'salad') 5\n",
      "('honey', 'mustard', 'dressing') 6\n",
      "('salad', 'vending', 'machine') 13\n",
      "('revival', 'food', 'hall') 13\n"
     ]
    }
   ],
   "source": [
    "\n",
    "trigrams = list(ngrams(filtered_lowercase_words, 3))\n",
    "trigram_counts = sort_dict_by_vals(count_ngrams(trigrams))\n",
    "print_top_vals(trigram_counts, min_count=5, min_length=3)"
   ]
  },
  {
   "cell_type": "markdown",
   "id": "f320fcb4",
   "metadata": {
    "cell_marker": "\"\"\""
   },
   "source": [
    "These are less informative as they are not positive word plus noun.\n",
    "Instead, they seem to be names of menu items or expected phrases, like \"Farmer's Fridge\" and \"vending machine\".\n",
    "\n",
    "Since most of the reviews are positive, it's interesting to repeat the ngram analysis for negative reviews only.\n",
    "Only about 10% of reviews have a rating of 2 or lower."
   ]
  },
  {
   "cell_type": "code",
   "execution_count": 17,
   "id": "cc048d91",
   "metadata": {},
   "outputs": [
    {
     "name": "stdout",
     "output_type": "stream",
     "text": [
      "('prices',) 5\n",
      "('like',) 5\n",
      "('revival',) 5\n",
      "('hall',) 5\n",
      "('back',) 5\n",
      "('little',) 5\n",
      "('open',) 5\n",
      "('times',) 5\n",
      "('lettuce',) 5\n",
      "('got',) 6\n",
      "('would',) 7\n",
      "('vending',) 8\n",
      "('lunch',) 8\n",
      "('machine',) 13\n",
      "(\"n't\",) 13\n",
      "('food',) 14\n",
      "('salad',) 20\n"
     ]
    }
   ],
   "source": [
    "\n",
    "negative_text = combine_review_text(df[df.rating <= 2])\n",
    "words = nltk.word_tokenize(negative_text)\n",
    "filtered_lowercase_words = []\n",
    "for word in words:\n",
    "    word = word.lower()\n",
    "    if word not in stop_words:\n",
    "        filtered_lowercase_words.append(word)\n",
    "filtered_lowercase_words[:12]\n",
    "\n",
    "word_counts = list(ngrams(filtered_lowercase_words, 1))\n",
    "word_counts = sort_dict_by_vals(count_ngrams(word_counts))\n",
    "print_top_vals(word_counts, min_count=5, min_length=3)"
   ]
  },
  {
   "cell_type": "markdown",
   "id": "a743a5d3",
   "metadata": {
    "cell_marker": "\"\"\""
   },
   "source": [
    "While we don't see obvious negative terms like \"bad\", we can infer from the given words that these reviewers didn't like the \"prices\", \"little\" [portions?], [available?] \"times\", etc.\n",
    "Similarly from the bigrams and trigrams,"
   ]
  },
  {
   "cell_type": "code",
   "execution_count": 18,
   "id": "c590d6df",
   "metadata": {},
   "outputs": [
    {
     "name": "stdout",
     "output_type": "stream",
     "text": [
      "('salad', 'vending') 2\n",
      "('every', 'day') 2\n",
      "('open', '9am') 2\n",
      "('used', 'get') 2\n",
      "('salad', 'portions') 2\n",
      "('brown', 'lettuce') 2\n",
      "('come', 'back') 3\n",
      "('could', \"n't\") 3\n",
      "('revival', 'food') 5\n",
      "('food', 'hall') 5\n",
      "('vending', 'machine') 7\n"
     ]
    }
   ],
   "source": [
    "\n",
    "bigrams = list(ngrams(filtered_lowercase_words, 2))\n",
    "bigram_counts = sort_dict_by_vals(count_ngrams(bigrams))\n",
    "print_top_vals(bigram_counts, min_count=2, min_length=3)"
   ]
  },
  {
   "cell_type": "code",
   "execution_count": 19,
   "id": "5b2006a0",
   "metadata": {},
   "outputs": [
    {
     "name": "stdout",
     "output_type": "stream",
     "text": [
      "('salad', 'vending', 'machine') 2\n",
      "('revival', 'food', 'hall') 5\n"
     ]
    }
   ],
   "source": [
    "trigrams = list(ngrams(filtered_lowercase_words, 3))\n",
    "trigram_counts = sort_dict_by_vals(count_ngrams(trigrams))\n",
    "print_top_vals(trigram_counts, min_count=2, min_length=3)"
   ]
  },
  {
   "cell_type": "markdown",
   "id": "9eb603bf",
   "metadata": {
    "cell_marker": "\"\"\""
   },
   "source": [
    "we can infer things like these reviewers were not impressed by the salad portions or the vending machine (perhaps they were just not expecting one?).\n",
    "\n",
    "(yelp-future)=\n",
    "## Future Work\n",
    "\n",
    "These analyses would benefit from more review data and more use of data already collected in reviews.\n",
    "The Selenium web-scraping approach is very flexible and generalizable.\n",
    "Future work can automate it to search for all fridge locations in Chicago and scrape all locations with 1 or more reviews.\n",
    "It is also easy to extend this approach to other cities, like New York City.\n",
    "I collected lots of metadata, like how many other reviews a given reviewer has posted or whether they've obtained the \"Elite\" Yelp user status.\n",
    "In addition, it may be useful to take a more detailed look at reviews that have lots of engagement, measured by how many other Yelpers found the review useful, funny, and/or cool.\n",
    "\n",
    "Additional data could be estimated from the variables collected, for example reviewer sex from an analysis of their names.\n",
    "This could be useful information if Farmer's Fridge wanted to better target a particular demographic.\n",
    "More in depth natural language processing could also be useful to improve the accuracy of the popularity metrics, e.g. salad popularity.\n",
    "Rather than just looking at if \"salad\" was mentioned, analyzing the sentiment around that mention would give better information."
   ]
  }
 ],
 "metadata": {
  "jupytext": {
   "text_representation": {
    "extension": ".py",
    "format_name": "percent"
   }
  },
  "kernelspec": {
   "display_name": "Python 3.7.6",
   "language": "python",
   "name": "python3"
  },
  "language_info": {
   "codemirror_mode": {
    "name": "ipython",
    "version": 3
   },
   "file_extension": ".py",
   "mimetype": "text/x-python",
   "name": "python",
   "nbconvert_exporter": "python",
   "pygments_lexer": "ipython3",
   "version": "3.9.13"
  }
 },
 "nbformat": 4,
 "nbformat_minor": 5
}