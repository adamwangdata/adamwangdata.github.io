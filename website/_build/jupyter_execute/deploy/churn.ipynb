{
 "cells": [
  {
   "cell_type": "code",
   "execution_count": null,
   "id": "930be91f",
   "metadata": {},
   "outputs": [],
   "source": [
    "\n"
   ]
  },
  {
   "cell_type": "markdown",
   "id": "0a51d2cc",
   "metadata": {
    "tags": [
     "remove-cell"
    ],
    "title": "Macros Setup"
   },
   "source": [
    "$$\n",
    "\\newcommand{\\parens}[1]{\\mathopen{}\\left(#1\\right)\\mathclose{}}\n",
    "\\newcommand{\\bracks}[1]{\\mathopen{}\\left[#1\\right]\\mathclose{}}\n",
    "\\newcommand{\\braces}[1]{\\mathopen{}\\left\\{#1\\right\\}\\mathclose{}}\n",
    "\\newcommand{\\abs}[1]{\\mathopen{}\\left\\lvert#1\\right\\rvert\\mathclose{}}\n",
    "\\newcommand{\\norm}[1]{\\mathopen{}\\left\\lVert#1\\right\\rVert\\mathclose{}}\n",
    "\\renewcommand{\\vec}[1]{\\boldsymbol{\\mathbf{#1}}}\n",
    "\\newcommand{\\mat}[1]{\\mathbf{#1}}\n",
    "\\newcommand{\\tpose}[1]{#1^T}\n",
    "\\newcommand{\\inv}[1]{#1^{-1}}\n",
    "\\newcommand{\\Matrix}[1]{\n",
    "  \\begin{bmatrix}\n",
    "    #1\n",
    "  \\end{bmatrix}\n",
    "}\n",
    "\\newcommand{\\seq}[1]{1, 2, \\ldots, #1}\n",
    "\\newcommand{\\reals}{\\mathbb{R}}\n",
    "\\newcommand{\\mper}{\\,\\text{.}}\n",
    "\\newcommand{\\mcom}{\\,\\text{,}}\n",
    "$$"
   ]
  },
  {
   "cell_type": "markdown",
   "id": "33ec5d02",
   "metadata": {
    "cell_marker": "\"\"\""
   },
   "source": [
    "(churn)=\n",
    "# Predicting Churn with Amazon SageMaker\n",
    "\n",
    "## Summary\n",
    "\n",
    "I prototyped a model to predict the probability a customer churns using scikit-learn.\n",
    "I then identified which characteristics were important and used those insights to suggest personalized customer retention strategies in an automated way.\n",
    "Finally, I trained and deployed the model to a hosted endpoint with Amazon SageMaker that is capable of making real-time predictions and automatically suggesting personalized retention strategies.\n",
    "\n",
    "```{note}\n",
    "You can run and modify the training and inference code on this page Jupyter Notebook style, but without leaving the page!\n",
    "Hover over the {fa}`rocket` launch button at the top of the page, then click the {guilabel}`Live Code` button.\n",
    "Once you see \"Launching from mybinder.org: ready\", you can run code cells.\n",
    "Refresh the page to revert to the original view.\n",
    "```\n",
    "\n",
    "## Introduction\n",
    "\n",
    "It is important for any business to retain their customers.\n",
    "Therefore it is important to predict ahead of time who is at risk to churn and implement cost effective strategies to retain them.\n",
    "My model and its associated retention strategies are specific to a company that offers phone and internet services, but the approach is generalizable to other domains and datasets.\n",
    "\n",
    "### Data Source\n",
    "\n",
    "I used the Telco customer churn dataset available by IBM [here](https://github.com/IBM/telco-customer-churn-on-icp4d).\n",
    "It consists of data about a fictional company that provides phone and internet service to approximately 7,000 customers.\n",
    "Each customer has 20 variables including whether or not they churned this quarter, the services they use, how much they pay, how long they've been a customer, and basic demographic information.\n",
    "\n",
    "### Model Choice\n",
    "\n",
    "I used logistic regression due to its interpretability and thus ability to inform retention strategies.\n",
    "I also opted for scikit-learn's implementation rather than SageMaker's built-in one for more flexibility;\n",
    "in particular, it's straightforward to access the model's coefficients via a scikit-learn training script to make personalized recommendations in the deployed model.\n",
    "Though I do not show it here, prediction focused algorithms like support vector machines or gradient boosted trees only have marginally better accuracy than cross-validated, regularized logistic regression.\n",
    "Combining with logistic regression's interpretability makes it a strong choice here.\n",
    "\n",
    "(churn-train)=\n",
    "## Model Training\n",
    "\n",
    "Before training a classification model with scikit-learn, we must split the data into a matrix of predictors `X` and a vector of responses `y` indicating the true labels.\n",
    "Because many variables in the churn dataset are categorical variables like yes/no, we also need to specially encode them.\n",
    "For binary variables, a simple numeric 0/1 coding is sufficient.\n",
    "For categorical variables with $k$ categories, creating $k - 1$ binary (dummy) variables is the most flexible way to model them.\n",
    "Finally, we should split the data into a training/test set to assess the performance of our trained model."
   ]
  },
  {
   "cell_type": "code",
   "execution_count": 1,
   "id": "fdc89bcc",
   "metadata": {},
   "outputs": [],
   "source": [
    "\n",
    "import pandas as pd\n",
    "import numpy as np\n",
    "from sklearn.model_selection import train_test_split\n",
    "\n",
    "# Split data into X (predictors) and y (response). Also fill in missing\n",
    "# values and ensure categorical predictors are treated consistently.\n",
    "df = pd.read_csv('churn.csv')\n",
    "X = df.drop(['customerID', 'Churn'], axis=1)\n",
    "X['SeniorCitizen'] = np.where(X['SeniorCitizen'] == 1, 'yes', 'no')\n",
    "X['TotalCharges'] = np.where(X['tenure'] == 0, 0, X['TotalCharges'])\n",
    "y = df['Churn']\n",
    "\n",
    "# Create k-1 dummy variables for k-category predictors, ensure numeric\n",
    "# variables are numbers, and encode the binary response to numeric\n",
    "# 0 (yes churn) and 1 (yes churn).\n",
    "numeric_vars = ['tenure', 'MonthlyCharges', 'TotalCharges']\n",
    "categorical_vars = [var for var in X.columns if var not in numeric_vars]\n",
    "X[numeric_vars] = X[numeric_vars].apply(pd.to_numeric)\n",
    "X = pd.get_dummies(X, columns=categorical_vars, drop_first=True)\n",
    "y = pd.factorize(y)[0]\n",
    "\n",
    "# Split into training and test sets.\n",
    "X_train, X_test, y_train, y_test = train_test_split(\n",
    "    X, y, test_size=0.3, random_state=1)"
   ]
  },
  {
   "cell_type": "markdown",
   "id": "724edad5",
   "metadata": {
    "cell_marker": "\"\"\""
   },
   "source": [
    "For logistic regression, the main tuning parameter is the type and amount of regularization on the model coefficients.\n",
    "$l_2$ (ridge) regularization generally results in better predictions but $l_1$ (LASSO) regularization is able to perform variable selection.\n",
    "In this case, the interpretability increase of the $l_1$ model is only minimal, so I'll stick with $l_2$, optimizing the amount of regularization with cross-validation:"
   ]
  },
  {
   "cell_type": "code",
   "execution_count": 2,
   "id": "10c85c8c",
   "metadata": {},
   "outputs": [
    {
     "name": "stdout",
     "output_type": "stream",
     "text": [
      "Optimal amount of regularization: [2.7825594]\n"
     ]
    },
    {
     "data": {
      "image/png": "[encoded data removed]",
      "text/plain": [
       "<Figure size 640x480 with 1 Axes>"
      ]
     },
     "metadata": {
      "filenames": {
       "image/png": "/home/adam/projects/website/website/_build/jupyter_execute/deploy/churn_5_1.png"
      }
     },
     "output_type": "display_data"
    }
   ],
   "source": [
    "\n",
    "from sklearn.linear_model import LogisticRegressionCV\n",
    "import matplotlib.pyplot as plt\n",
    "\n",
    "model = LogisticRegressionCV(cv=5, penalty='l2', max_iter=1000,\n",
    "                             random_state=1)\n",
    "model.fit(X_train, y_train)\n",
    "\n",
    "fig, ax = plt.subplots()\n",
    "ax.plot(model.Cs_, np.mean(model.scores_[1], axis=0), '-o')\n",
    "ax.set(ylabel='cross-validated accuracy', xlabel='regularization parameter',\n",
    "       xscale='log')\n",
    "print(f'Optimal amount of regularization: {model.C_}')"
   ]
  },
  {
   "cell_type": "markdown",
   "id": "f894cbb1",
   "metadata": {
    "cell_marker": "\"\"\""
   },
   "source": [
    "Examining accuracies on the training and test sets:"
   ]
  },
  {
   "cell_type": "code",
   "execution_count": 3,
   "id": "9ac8b196",
   "metadata": {},
   "outputs": [
    {
     "name": "stdout",
     "output_type": "stream",
     "text": [
      "Accuracy on training set: 0.8042596348884381\n",
      "Accuracy on test set: 0.8135352579271179\n"
     ]
    }
   ],
   "source": [
    "\n",
    "print(f'Accuracy on training set: {model.score(X_train, y_train)}')\n",
    "print(f'Accuracy on test set: {model.score(X_test, y_test)}')"
   ]
  },
  {
   "cell_type": "markdown",
   "id": "d7d8371c",
   "metadata": {
    "cell_marker": "\"\"\""
   },
   "source": [
    "we see that the model generalized well.\n",
    "Though we only trained on 70% of the data, when we deploy the model we should use all of the data.\n",
    "The above test suggests it's reasonable to use $l_2$ regularization with amount near `C=.05`.\n",
    "\n",
    "\n",
    "## Model Inference\n",
    "\n",
    "Before deploying the model for use in production, we should learn about it to inform business decisions based on the model predictions.\n",
    "For example, while it's useful to identify customers expected to churn, it's even more useful to identify why they're expected to churn and develop customer retention strategies.\n",
    "Let's first train the model on all of the data:"
   ]
  },
  {
   "cell_type": "code",
   "execution_count": 4,
   "id": "d089c1d3",
   "metadata": {},
   "outputs": [
    {
     "data": {
      "text/plain": [
       "0.8059065739031662"
      ]
     },
     "execution_count": 4,
     "metadata": {},
     "output_type": "execute_result"
    }
   ],
   "source": [
    "\n",
    "from sklearn.linear_model import LogisticRegression\n",
    "\n",
    "model = LogisticRegression(C=.05, penalty='l2', max_iter=1000, random_state=1)\n",
    "model.fit(X, y)\n",
    "model.score(X, y)"
   ]
  },
  {
   "cell_type": "markdown",
   "id": "957d64ae",
   "metadata": {
    "cell_marker": "\"\"\""
   },
   "source": [
    "### Complementary Metrics to Accuracy\n",
    "\n",
    "While accuracy is a useful metric, it's not always the best one, particularly for imbalanced data.\n",
    "For instance, if our model always predicted no churn:"
   ]
  },
  {
   "cell_type": "code",
   "execution_count": 5,
   "id": "e59a32e1",
   "metadata": {},
   "outputs": [
    {
     "name": "stdout",
     "output_type": "stream",
     "text": [
      "Accuracy when predicting no one churns: 0.7346301292063041\n"
     ]
    }
   ],
   "source": [
    "\n",
    "print(f'Accuracy when predicting no one churns: {np.mean(y == 0)}')"
   ]
  },
  {
   "cell_type": "markdown",
   "id": "ca0e18e5",
   "metadata": {
    "cell_marker": "\"\"\""
   },
   "source": [
    "it still achieves 73% accuracy.\n",
    "However, it identifies no customer that churns, and is ultimately useless to the business.\n",
    "A more complete picture examines false positives and negatives in the *confusion matrix*:"
   ]
  },
  {
   "cell_type": "code",
   "execution_count": 6,
   "id": "d30696f1",
   "metadata": {},
   "outputs": [
    {
     "data": {
      "text/html": [
       "<div>\n",
       "<style scoped>\n",
       "    .dataframe tbody tr th:only-of-type {\n",
       "        vertical-align: middle;\n",
       "    }\n",
       "\n",
       "    .dataframe tbody tr th {\n",
       "        vertical-align: top;\n",
       "    }\n",
       "\n",
       "    .dataframe thead th {\n",
       "        text-align: right;\n",
       "    }\n",
       "</style>\n",
       "<table border=\"1\" class=\"dataframe\">\n",
       "  <thead>\n",
       "    <tr style=\"text-align: right;\">\n",
       "      <th></th>\n",
       "      <th>pred 0</th>\n",
       "      <th>pred 1</th>\n",
       "    </tr>\n",
       "  </thead>\n",
       "  <tbody>\n",
       "    <tr>\n",
       "      <th>true 0</th>\n",
       "      <td>4655</td>\n",
       "      <td>519</td>\n",
       "    </tr>\n",
       "    <tr>\n",
       "      <th>true 1</th>\n",
       "      <td>848</td>\n",
       "      <td>1021</td>\n",
       "    </tr>\n",
       "  </tbody>\n",
       "</table>\n",
       "</div>"
      ],
      "text/plain": [
       "        pred 0  pred 1\n",
       "true 0    4655     519\n",
       "true 1     848    1021"
      ]
     },
     "execution_count": 6,
     "metadata": {},
     "output_type": "execute_result"
    }
   ],
   "source": [
    "\n",
    "from sklearn.metrics import confusion_matrix\n",
    "\n",
    "y_true = y\n",
    "y_pred = model.predict(X)\n",
    "pd.DataFrame(confusion_matrix(y_true, y_pred),\n",
    "             columns=['pred 0', 'pred 1'], index=['true 0', 'true 1'])"
   ]
  },
  {
   "cell_type": "markdown",
   "id": "2e3ccdf0",
   "metadata": {
    "cell_marker": "\"\"\""
   },
   "source": [
    "For instance, two questions of interest are: (1) among all customers who churned, how many did we correctly predict? and (2) among all customers who did not churn, how many did we correct predict?\n",
    "These are the true positive and true negative rates, respectively.\n",
    "In this case, they are:"
   ]
  },
  {
   "cell_type": "code",
   "execution_count": 7,
   "id": "314fd095",
   "metadata": {},
   "outputs": [
    {
     "name": "stdout",
     "output_type": "stream",
     "text": [
      "True positive rate: 0.5462814339218833\n",
      "True negative rate: 0.8996907614998068\n"
     ]
    }
   ],
   "source": [
    "\n",
    "print('True positive rate:', 1021 / (848 + 1021))\n",
    "print('True negative rate:', 4655 / (4655 + 519))"
   ]
  },
  {
   "cell_type": "markdown",
   "id": "f4b8ea88",
   "metadata": {
    "cell_marker": "\"\"\""
   },
   "source": [
    "These metrics can be tuned by the prediction threshold, which currently predicts a customer churns if their probability of churning is $p_\\ast = 0.5$ or more.\n",
    "The threshold depends on the cost of customer churn and customer retention strategies, both to the business and the customer.\n",
    "If the strategy is expensive to implement, a higher probability threshold should be used.\n",
    "If the cost of churn is more expensive, a lower probability threshold should be used.\n",
    "Different thresholds can also be used for different customer retention strategies.\n",
    "For example, a threshold of $p_\\ast = 0.3$ results in true positive and negative rates near 76\\%.\n",
    "The improved identification of customers who are likely to churn may offset the reduction in overall accuracy, down to 77%.\n",
    "Clearly there is a tradeoff between true positive and negative rates, but the ability to tune the threshold to the business' needs is a strength of the logistic regression model.\n",
    "A detailed analysis to choose $p_\\ast$ in conjunction with retention strategies is warranted, with input from experts in finance, customer experience, marketing, etc.\n",
    "\n",
    "### Informing Retention Strategies\n",
    "\n",
    "Another important question is \"what predictors are related to customer churn?\"\n",
    "These can help inform what retention strategies should be used.\n",
    "We can answer this by looking at the effects of changing predictor values, which are closely related to the logistic regression coefficients:"
   ]
  },
  {
   "cell_type": "code",
   "execution_count": 8,
   "id": "34ca775b",
   "metadata": {},
   "outputs": [
    {
     "data": {
      "text/plain": [
       "tenure              -0.772066\n",
       "MonthlyCharges       0.101161\n",
       "TotalCharges         0.365043\n",
       "gender_Male         -0.036220\n",
       "SeniorCitizen_yes    0.211788\n",
       "dtype: float64"
      ]
     },
     "execution_count": 8,
     "metadata": {},
     "output_type": "execute_result"
    }
   ],
   "source": [
    "\n",
    "effects = pd.Series(model.coef_[0].copy(), index=X.columns)\n",
    "effects[numeric_vars] *= X[numeric_vars].apply(np.std) / 2\n",
    "effects.head()"
   ]
  },
  {
   "cell_type": "markdown",
   "id": "632e402d",
   "metadata": {
    "cell_marker": "\"\"\""
   },
   "source": [
    "For numeric variables, I specified the effect of an increase of half a standard deviation, which are approximately 1 year as a customer (`tenure`), \\$15/month (`MonthlyCharges`), and \\$1,000 total (`TotalCharges`).\n",
    "Effects that are large in magnitude and positive are associated with an increase in probability to churn.\n",
    "On the other hand, effects that are large in magnitude but negative are associated with a decrease in probability to churn.\n",
    "Effects close to zero have little impact.\n",
    "Looking at their distribution,"
   ]
  },
  {
   "cell_type": "code",
   "execution_count": 9,
   "id": "9e7b6b12",
   "metadata": {},
   "outputs": [
    {
     "data": {
      "text/plain": [
       "[Text(0.5, 0, 'Typical predictor effects')]"
      ]
     },
     "execution_count": 9,
     "metadata": {},
     "output_type": "execute_result"
    },
    {
     "data": {
      "image/png": "[encoded data removed]",
      "text/plain": [
       "<Figure size 640x480 with 1 Axes>"
      ]
     },
     "metadata": {
      "filenames": {
       "image/png": "/home/adam/projects/website/website/_build/jupyter_execute/deploy/churn_19_1.png"
      }
     },
     "output_type": "display_data"
    }
   ],
   "source": [
    "\n",
    "fig, ax = plt.subplots()\n",
    "ax.hist(effects, bins=10)\n",
    "ax.set(xlabel='Typical predictor effects')"
   ]
  },
  {
   "cell_type": "markdown",
   "id": "275b0517",
   "metadata": {
    "cell_marker": "\"\"\""
   },
   "source": [
    "we can define the most impactful effects to have magnitude larger than 0.3."
   ]
  },
  {
   "cell_type": "code",
   "execution_count": 10,
   "id": "13b28e89",
   "metadata": {},
   "outputs": [
    {
     "data": {
      "text/plain": [
       "Contract_Two year             -0.809523\n",
       "tenure                        -0.772066\n",
       "Contract_One year             -0.476209\n",
       "TechSupport_Yes               -0.439344\n",
       "PhoneService_Yes              -0.433797\n",
       "OnlineSecurity_Yes            -0.425431\n",
       "PaperlessBilling_Yes           0.315336\n",
       "TotalCharges                   0.365043\n",
       "InternetService_Fiber optic    0.561223\n",
       "dtype: float64"
      ]
     },
     "execution_count": 10,
     "metadata": {},
     "output_type": "execute_result"
    }
   ],
   "source": [
    "\n",
    "effects[np.abs(effects) > .3].sort_values()"
   ]
  },
  {
   "cell_type": "markdown",
   "id": "c1fe46dd",
   "metadata": {
    "cell_marker": "\"\"\""
   },
   "source": [
    "Evidently having a contract is one of the most impactful predictors of churn.\n",
    "About half of those in the dataset are on a contract while the other half pay month-to-month.\n",
    "There is a stark difference comparing churn rates between those groups:"
   ]
  },
  {
   "cell_type": "code",
   "execution_count": 11,
   "id": "c847ab6b",
   "metadata": {},
   "outputs": [
    {
     "name": "stdout",
     "output_type": "stream",
     "text": [
      "Churn rate with a contract 0.06755050505050506\n",
      "Churn rate without a contract 0.4270967741935484\n"
     ]
    }
   ],
   "source": [
    "\n",
    "print('Churn rate with a contract', np.mean(y[df.Contract != 'Month-to-month']))\n",
    "print('Churn rate without a contract', np.mean(y[df.Contract == 'Month-to-month']))"
   ]
  },
  {
   "cell_type": "markdown",
   "id": "81c68a2e",
   "metadata": {
    "cell_marker": "\"\"\""
   },
   "source": [
    "Customers who've had a longer tenure with the company are also less likely to churn.\n",
    "This combination suggests that offering contracts may be an effective customer retention strategy.\n",
    "Add-on services like tech support and online security also reduce churn rate.\n",
    "\n",
    "There are a few indications that internet users are more likely to churn.\n",
    "This is probably due to the fact that phone service is more portable, and not a reason the company should stop offering internet services.\n",
    "While total charge history is associated with more customer churn, this effect is not relevant because we don't have what-if scenarios like \"what if this customer suddenly spent another $1,000?\"\n",
    "In addition, a larger total charge amount is generally cancelled out by longer tenures due to the correlation of those variables.\n",
    "Monthly payments are more relevant and modifiable, but do not show up in the top effects.\n",
    "\n",
    "There are a few less clear indicators like paperless billing.\n",
    "This does not mean that enrolling in paperless billing causes a customer to churn, i.e. advising customers to not enroll in paperless billing is not an effective retention solution.\n",
    "More likely there is an unmeasured variable like age that is correlated with paperless billing and churn, e.g. younger people are more likely to enroll in paperless billing and move (resulting in churn).\n",
    "\n",
    "(churn-personalize)=\n",
    "### Personalizing Retention Strategies\n",
    "\n",
    "The previous discussion is about average effects over the entire population, but are not personalized.\n",
    "It would be better if we could answer \"what should we do for this specific person to retain them as a customer?\"\n",
    "To do that, we can look at the model coefficients weighted by the actual predictor values of a person.\n",
    "This tells us each predictor's contribution to the churn probability for a particular customer.\n",
    "For instance, consider the following person who's predicted to churn with 78% probability:"
   ]
  },
  {
   "cell_type": "code",
   "execution_count": 12,
   "id": "5d170bf4",
   "metadata": {},
   "outputs": [
    {
     "data": {
      "text/plain": [
       "array([[0.22465375, 0.77534625]])"
      ]
     },
     "execution_count": 12,
     "metadata": {},
     "output_type": "execute_result"
    }
   ],
   "source": [
    "\n",
    "x = X.loc[[346]]\n",
    "model.predict_proba(x)"
   ]
  },
  {
   "cell_type": "markdown",
   "id": "9ff603e2",
   "metadata": {
    "cell_marker": "\"\"\"",
    "lines_to_next_cell": 1
   },
   "source": [
    "We can compute their personalized effects as follows:"
   ]
  },
  {
   "cell_type": "code",
   "execution_count": 13,
   "id": "4f166705",
   "metadata": {},
   "outputs": [
    {
     "data": {
      "text/plain": [
       "PhoneService_Yes                 -0.433797\n",
       "tenure                           -0.125755\n",
       "TotalCharges                      0.054178\n",
       "StreamingTV_Yes                   0.100491\n",
       "StreamingMovies_Yes               0.112205\n",
       "PaymentMethod_Electronic check    0.288647\n",
       "PaperlessBilling_Yes              0.315336\n",
       "InternetService_Fiber optic       0.561223\n",
       "MonthlyCharges                    0.607883\n",
       "Name: 346, dtype: float64"
      ]
     },
     "execution_count": 13,
     "metadata": {},
     "output_type": "execute_result"
    }
   ],
   "source": [
    "\n",
    "def get_personalized_effects(model, x, nonzero=True):\n",
    "    \"\"\"Extract components of the linear predictor in the logistic regression\n",
    "    model for a customer with predictor values `x`.\"\"\"\n",
    "    personalized_effects = x * model.coef_\n",
    "    personalized_effects = personalized_effects.squeeze().sort_values()\n",
    "    if nonzero:\n",
    "        return personalized_effects[personalized_effects != 0]\n",
    "    else:\n",
    "        return personalized_effects\n",
    "\n",
    "get_personalized_effects(model, x)"
   ]
  },
  {
   "cell_type": "markdown",
   "id": "d39eb9b2",
   "metadata": {
    "cell_marker": "\"\"\""
   },
   "source": [
    "The only personalized effects lowering their predicted churn probability are phone service and a relatively short tenure.\n",
    "On the other hand, they have high monthly charges, are an internet user, and are enrolled in paperless billing and pay electronically.\n",
    "Of those, only their monthly rate is actionable, so one solution would be to offer a contract at a slightly lower monthly rate.\n",
    "A better solution would use what we learned about the population of customers overall and also offer a contract.\n",
    "If they commited to a 2-year contract at 90% of their current rate, their predicted churn probability would decrease to 58%:"
   ]
  },
  {
   "cell_type": "code",
   "execution_count": 14,
   "id": "246ce694",
   "metadata": {},
   "outputs": [
    {
     "data": {
      "text/plain": [
       "array([[0.41781077, 0.58218923]])"
      ]
     },
     "execution_count": 14,
     "metadata": {},
     "output_type": "execute_result"
    }
   ],
   "source": [
    "\n",
    "x_modified = x.copy()\n",
    "x_modified['Contract_Two year'] = 1\n",
    "x_modified['MonthlyCharges'] *= .9\n",
    "x_modified['tenure'] += 1\n",
    "x_modified['TotalCharges'] += x_modified['MonthlyCharges']\n",
    "model.predict_proba(x_modified)"
   ]
  },
  {
   "cell_type": "markdown",
   "id": "5f018b4d",
   "metadata": {
    "cell_marker": "\"\"\""
   },
   "source": [
    "Further adding tech support and online security to their contract lowers their churn probability to 37%:"
   ]
  },
  {
   "cell_type": "code",
   "execution_count": 15,
   "id": "7bce767b",
   "metadata": {},
   "outputs": [
    {
     "data": {
      "text/plain": [
       "array([[0.63018435, 0.36981565]])"
      ]
     },
     "execution_count": 15,
     "metadata": {},
     "output_type": "execute_result"
    }
   ],
   "source": [
    "\n",
    "x_modified['TechSupport_Yes'] = 1\n",
    "x_modified['OnlineSecurity_Yes'] = 1\n",
    "model.predict_proba(x_modified)"
   ]
  },
  {
   "cell_type": "markdown",
   "id": "195d744f",
   "metadata": {
    "cell_marker": "\"\"\"",
    "lines_to_next_cell": 1
   },
   "source": [
    "The above reasoning can be automated in the following `suggest_retention_measures()` function, which returns a list of recommended retention measures."
   ]
  },
  {
   "cell_type": "code",
   "execution_count": 16,
   "id": "69c7d741",
   "metadata": {},
   "outputs": [
    {
     "data": {
      "text/plain": [
       "['Offer customer a promotional contract and consider lowering their monthly rate ($90.4).',\n",
       " 'Offer customer tech support.',\n",
       " 'Offer customer online security.']"
      ]
     },
     "execution_count": 16,
     "metadata": {},
     "output_type": "execute_result"
    }
   ],
   "source": [
    "\n",
    "def suggest_retention_measures(model, x):\n",
    "    \"\"\"Given the logistic regression customer churn model and predictor values\n",
    "    `x` of a particular customer, create a list of possible customer\n",
    "    retention measures in order of greatest predicted effect.\"\"\"\n",
    "    measures = []\n",
    "    personalized_effects = get_personalized_effects(model, x, nonzero=False)\n",
    "\n",
    "    has_no_contract = (x['Contract_Two year'].values[0] == 0\n",
    "                       and x['Contract_One year'].values[0] == 0)\n",
    "    if has_no_contract and personalized_effects.idxmax() == 'MonthlyCharges':\n",
    "        measures.append(\n",
    "            'Offer customer a promotional contract and consider lowering '\n",
    "            'their monthly rate (${}).'.format(x['MonthlyCharges'].values[0])\n",
    "        )\n",
    "    elif has_no_contract:\n",
    "        measures.append(\n",
    "            'Offer customer a promotional contract at a similar monthly '\n",
    "            'rate (${}).'.format(x['MonthlyCharges'].values[0])\n",
    "        )\n",
    "    if x['TechSupport_Yes'].values[0] == 0:\n",
    "        measures.append('Offer customer tech support.')\n",
    "    if x['PhoneService_Yes'].values[0] == 0:\n",
    "        measures.append('Offer customer phone service.')\n",
    "    if x['OnlineSecurity_Yes'].values[0] == 0:\n",
    "        measures.append('Offer customer online security.')\n",
    "    if not measures:\n",
    "        print('No automated solution suggested.'\n",
    "              \"Returning customer's personalized effects to analyze.\")\n",
    "        return personalized_effects\n",
    "    else:\n",
    "        return measures\n",
    "\n",
    "suggest_retention_measures(model, x)"
   ]
  },
  {
   "cell_type": "markdown",
   "id": "eee5dfa3",
   "metadata": {
    "cell_marker": "\"\"\""
   },
   "source": [
    "## Model Deployment\n",
    "\n",
    "Using the previous training and inference code as a foundation, we are now ready to deploy the model with Amazon SageMaker.\n",
    "\n",
    "### Python Training Script\n",
    "\n",
    "The first step is to include a Python training script that SageMaker will import during the training step.\n",
    "The training code is nearly identical to the code in § [](churn-train), but because SageMaker calls this script via command line, we must parse arguments like hyperparameter values and file directory locations.\n",
    "We also need a way to serialize and deserialize the trained model, done with the `joblib` module and a custom `model_fn()` function, so SageMaker understands them.\n",
    "Finally, I modified the inference code in `predict_fn()` to return the predicted probability and model coefficients for making personalized retention strategies, rather than just a yes/no customer churn prediction.\n",
    "The following is my complete `sklearn_churn.py` training script:\n",
    "\n",
    "```python\n",
    "import argparse\n",
    "import os\n",
    "import joblib\n",
    "import pandas as pd\n",
    "import numpy as np\n",
    "\n",
    "from sklearn.linear_model import LogisticRegression\n",
    "\n",
    "\n",
    "if __name__ == '__main__':\n",
    "    parser = argparse.ArgumentParser()\n",
    "\n",
    "    # Define hyperparameters\n",
    "    parser.add_argument('--regularization', type=float, default=1)\n",
    "\n",
    "    # Sagemaker specific arguments. Defaults are set in the environment variables.\n",
    "    parser.add_argument('--output-data-dir', type=str, default=os.environ['SM_OUTPUT_DATA_DIR'])\n",
    "    parser.add_argument('--model-dir', type=str, default=os.environ['SM_MODEL_DIR'])\n",
    "    parser.add_argument('--train', type=str, default=os.environ['SM_CHANNEL_TRAIN'])\n",
    "\n",
    "    args = parser.parse_args()\n",
    "\n",
    "    # Load in data and split into X and y\n",
    "    df = pd.read_csv(os.path.join(args.train, 'train.csv'))\n",
    "    X = df.drop(['customerID', 'Churn'], axis=1)\n",
    "    X['SeniorCitizen'] = np.where(X['SeniorCitizen'] == 1, 'yes', 'no')\n",
    "    X['TotalCharges'] = np.where(X['tenure'] == 0, 0, X['TotalCharges'])\n",
    "    y = df['Churn']\n",
    "\n",
    "    # Encode categorical variables as dummy variables\n",
    "    numeric_vars = ['tenure', 'MonthlyCharges', 'TotalCharges']\n",
    "    categorical_vars = [var for var in X.columns if var not in numeric_vars]\n",
    "    X[numeric_vars] = X[numeric_vars].apply(pd.to_numeric)\n",
    "    X = pd.get_dummies(X, columns=categorical_vars, drop_first=True)\n",
    "    y = pd.factorize(y)[0]\n",
    "\n",
    "    # Fit model\n",
    "    C = args.regularization\n",
    "    model = LogisticRegression(C=C, penalty='l2', max_iter=10000, random_state=1)\n",
    "    model.fit(X, y)\n",
    "\n",
    "    # Save model to `model_dir` as file 'model.joblib'\n",
    "    joblib.dump(model, os.path.join(args.model_dir, 'model.joblib'))\n",
    "\n",
    "\n",
    "def model_fn(model_dir):\n",
    "    \"\"\"Deserialize and return fitted model.\"\"\"\n",
    "    model = joblib.load(os.path.join(model_dir, \"model.joblib\"))\n",
    "    return model\n",
    "\n",
    "\n",
    "def predict_fn(x, model):\n",
    "    churn_prob = model.predict_proba(x)[0][1]\n",
    "    coef = model.coef_[0]\n",
    "    return np.array([churn_prob, coef], dtype='object')\n",
    "```\n",
    "\n",
    "### SageMaker Notebook Instance\n",
    "\n",
    "Next, we can write the training and inference code in a Jupyter Notebook using a SageMaker notebook instance.\n",
    "Once the Jupyter environment is created, upload the above training script `sklearn_churn.py`.\n",
    "The following code cells and output were run in the SageMaker notebook using a file titled `telco-churn.ipynb`.\n",
    "First, download the data and save it to the `data` folder in the current working directory:\n",
    "\n",
    "```python\n",
    "# Download and save data\n",
    "\n",
    "import os\n",
    "import urllib.request\n",
    "\n",
    "os.makedirs('./data', exist_ok=True)\n",
    "\n",
    "data_url = 'https://raw.githubusercontent.com/IBM/telco-customer-churn-on-icp4d/master/data/Telco-Customer-Churn.csv'\n",
    "try:\n",
    "    urllib.request.urlretrieve(data_url, filename='data/train.csv')\n",
    "    print('Success: downloaded Telco customer churn data to data/train.csv.')\n",
    "except Exception as e:\n",
    "    print('Data load error: ',e)\n",
    "```\n",
    "\n",
    "    Success: downloaded Telco customer churn data to data/train.csv.\n",
    "\n",
    "\n",
    "```bash\n",
    "# Check contents of working directory\n",
    "\n",
    "! ls --recursive\n",
    "```\n",
    "\n",
    "    .:\n",
    "    data  lost+found  sklearn_churn.py  telco-churn.ipynb\n",
    "\n",
    "    ./data:\n",
    "    train.csv\n",
    "    ls: cannot open directory ./lost+found: Permission denied\n",
    "\n",
    "Next, upload the data to a default Amazon S3 bucket using the SageMaker Python SDK, and create a role to enable permissions:\n",
    "\n",
    "```python\n",
    "# Upload data to S3\n",
    "\n",
    "import sagemaker\n",
    "\n",
    "prefix = 'sklearn-telco-churn'\n",
    "work_directory = 'data'\n",
    "sagemaker_session = sagemaker.Session()\n",
    "\n",
    "train_input = sagemaker_session.upload_data(\n",
    "    work_directory, key_prefix=f'{prefix}/{work_directory}'\n",
    ")\n",
    "```\n",
    "\n",
    "```python\n",
    "# Get a SageMaker-compatible role used by this notebook instance\n",
    "\n",
    "from sagemaker import get_execution_role\n",
    "\n",
    "role = get_execution_role()\n",
    "```\n",
    "\n",
    "We are now ready to create and train the model.\n",
    "We do this by creating a scikit-learn estimator, which uses our training script `sklearn_churn.py`, and calling its `fit()` method:\n",
    "\n",
    "```python\n",
    "# Create sklearn estimator and train the model\n",
    "\n",
    "from sagemaker.sklearn.estimator import SKLearn\n",
    "\n",
    "framework_version = \"0.23-1\"\n",
    "script_path = \"sklearn_churn.py\"\n",
    "\n",
    "model = SKLearn(\n",
    "    entry_point = script_path,\n",
    "    framework_version = framework_version,\n",
    "    instance_type = 'ml.m4.xlarge',\n",
    "    role = role,\n",
    "    sagemaker_session = sagemaker_session,\n",
    "    hyperparameters = {'regularization': .05},\n",
    ")\n",
    "\n",
    "model.fit({'train': train_input})\n",
    "```\n",
    "\n",
    "    2021-06-29 19:41:59 Starting - Starting the training job...\n",
    "    ...(output trimmed)...\n",
    "    Reporting training SUCCESS\n",
    "\n",
    "    2021-06-29 19:45:56 Uploading - Uploading generated training model\n",
    "    2021-06-29 19:45:56 Completed - Training job completed\n",
    "    Training seconds: 63\n",
    "    Billable seconds: 63\n",
    "\n",
    "Finally, deploying the model is just a simple `deploy()` method call:\n",
    "\n",
    "```python\n",
    "# Deploy the model\n",
    "\n",
    "predictor = model.deploy(initial_instance_count=1, instance_type=\"ml.m4.xlarge\")\n",
    "```\n",
    "\n",
    "    -----------------!\n",
    "\n",
    "With the deployed model, we can make real-time predictions using `predictor`.\n",
    "We can test it within the same Jupyter Notebook by sending requests to the created endpoint.\n",
    "For simplicity, I'll use the same example in § [](churn-personalize), generating personalized retention strategies for a customer likely to churn.\n",
    "Let's load in the data and clean it up in a format `predictor` expects:\n",
    "\n",
    "```python\n",
    "# Load in data and clean it up\n",
    "\n",
    "import pandas as pd\n",
    "import numpy as np\n",
    "\n",
    "df = pd.read_csv('data/churn.csv')\n",
    "X = df.drop(['customerID', 'Churn'], axis=1)\n",
    "X['SeniorCitizen'] = np.where(X['SeniorCitizen'] == 1, 'yes', 'no')\n",
    "X['TotalCharges'] = np.where(X['tenure'] == 0, 0, X['TotalCharges'])\n",
    "y = df['Churn']\n",
    "\n",
    "# Encode categorical variables as dummy variables\n",
    "numeric_vars = ['tenure', 'MonthlyCharges', 'TotalCharges']\n",
    "categorical_vars = [var for var in X.columns if var not in numeric_vars]\n",
    "X[numeric_vars] = X[numeric_vars].apply(pd.to_numeric)\n",
    "X = pd.get_dummies(X, columns=categorical_vars, drop_first=True)\n",
    "y = pd.factorize(y)[0]\n",
    "```\n",
    "\n",
    "Calling the `predict()` method yields the predicted churn probability and the model coefficients:\n",
    "\n",
    "```python\n",
    "x = X.loc[[346]]\n",
    "predictor.predict(np.array(x))\n",
    "```\n",
    "\n",
    "    array([0.7752199488662624,\n",
    "           array([-6.28816764e-02,  6.71836625e-03,  3.22313109e-04, -3.62093891e-02,\n",
    "            2.11700027e-01, -1.88526375e-02, -1.72425059e-01, -4.33854036e-01,\n",
    "            2.64606502e-01,  2.06138086e-01,  5.61257052e-01, -1.00013357e-01,\n",
    "           -1.00013357e-01, -4.25320987e-01, -1.00013357e-01, -1.80374348e-01,\n",
    "           -1.00013357e-01, -1.06372626e-01, -1.00013357e-01, -4.39229152e-01,\n",
    "           -1.00013357e-01,  1.00475922e-01, -1.00013357e-01,  1.12193889e-01,\n",
    "           -4.76361099e-01, -8.09811673e-01,  3.15258003e-01, -1.27037030e-01,\n",
    "            2.88597744e-01, -7.67199703e-02])], dtype=object)\n",
    "\n",
    "Reusing the automatic suggestion of retention measures in § [](churn-personalize), we get the same results as before, but using the deployed model:\n",
    "\n",
    "```python\n",
    "def get_personalized_effects(x, coef, nonzero=True):\n",
    "    \"\"\"Extract components of the linear predictor in the logistic regression\n",
    "    model for a customer with predictor values `x`.\"\"\"\n",
    "    personalized_effects = x * coef\n",
    "    personalized_effects = personalized_effects.squeeze().sort_values()\n",
    "    if nonzero:\n",
    "        return personalized_effects[personalized_effects != 0]\n",
    "    else:\n",
    "        return personalized_effects\n",
    "\n",
    "\n",
    "def suggest_retention_measures(x, coef):\n",
    "    \"\"\"Given the logistic regression customer churn model and predictor values\n",
    "    `x` of a particular customer, create a list of possible customer\n",
    "    retention measures in order of greatest predicted effect.\"\"\"\n",
    "    measures = []\n",
    "    personalized_effects = get_personalized_effects(x, coef, nonzero=False)\n",
    "\n",
    "    has_no_contract = (x['Contract_Two year'].values[0] == 0\n",
    "                       and x['Contract_One year'].values[0] == 0)\n",
    "    if has_no_contract and personalized_effects.idxmax() == 'MonthlyCharges':\n",
    "        measures.append(\n",
    "            'Offer customer a promotional contract and consider lowering '\n",
    "            'their monthly rate (${}).'.format(x['MonthlyCharges'].values[0])\n",
    "        )\n",
    "    elif has_no_contract:\n",
    "        measures.append(\n",
    "            'Offer customer a promotional contract at a similar monthly '\n",
    "            'rate (${}).'.format(x['MonthlyCharges'].values[0])\n",
    "        )\n",
    "    if x['TechSupport_Yes'].values[0] == 0:\n",
    "        measures.append('Offer customer tech support.')\n",
    "    if x['PhoneService_Yes'].values[0] == 0:\n",
    "        measures.append('Offer customer phone service.')\n",
    "    if x['OnlineSecurity_Yes'].values[0] == 0:\n",
    "        measures.append('Offer customer online security.')\n",
    "    if not measures:\n",
    "        print('No automated solution suggested.'\n",
    "              \"Returning customer's personalized effects to analyze.\")\n",
    "        return personalized_effects\n",
    "    else:\n",
    "        return measures\n",
    "\n",
    "result = predictor.predict(np.array(x))\n",
    "churn_prob, coef = result[0], result[1]\n",
    "print(f\"Customer {df.customerID[346]}'s churn probability: {churn_prob}\")\n",
    "suggest_retention_measures(x, coef)\n",
    "```\n",
    "\n",
    "    Customer 2034-GDRCN's churn probability: 0.7752199488662624\n",
    "\n",
    "    ['Offer customer a promotional contract and consider lowering their monthly rate ($90.4).',\n",
    "     'Offer customer tech support.',\n",
    "     'Offer customer online security.']\n",
    "\n",
    "Finally, it's good practice to terminate resources when they're not in use, in this case deleting the deployed endpoint:\n",
    "\n",
    "```python\n",
    "predictor.delete_endpoint()\n",
    "```"
   ]
  },
  {
   "cell_type": "markdown",
   "id": "defc568a",
   "metadata": {
    "cell_marker": "\"\"\""
   },
   "source": [
    "## Future Work\n",
    "\n",
    "There are three main avenues of improvement:\n",
    "\n",
    "1. Determine specific retention strategies after factoring costs of the strategy and of customer churn. Each strategy may have an associated prediction probability threshold $p_\\ast$ before it is suggested.\n",
    "2. Automate the model deployment and inference to periodically predict churn and suggest strategies for all customers, using the most recent data.\n",
    "3. An improved prediction model. This includes updating the model with the latest data to combat model drift.\n",
    "\n",
    "As mentioned before, the specific strategies to use should have input from experts in finance, customer experience, marketing, etc. who can help determine their cost and effectiveness.\n",
    "Given that information, it is much easier to choose $p_\\ast$.\n",
    "A simple model assumes a retention strategy is implemented if the model predicts a customer will churn (which is based on $p_\\ast$) at some fixed cost $C_\\text{strategy}$.\n",
    "We also assume a cost if a customer churns, $C_\\text{churn}$.\n",
    "Then assuming customers accept the retention strategy, the total cost to the company as a function of the elements of the confusion matrix (false/true positive/negative) is\n",
    "\n",
    "$$\n",
    "C_\\text{total} \\approx\n",
    "    C_\\text{strategy} \\times \\text{FP}\n",
    "    + C_\\text{strategy} \\times \\text{TP}\n",
    "    + C_\\text{churn} \\times \\text{FN}\n",
    "    + 0 \\times \\text{TN}.\n",
    "$$\n",
    "\n",
    "Since the elements of the confusion matrix depend on $p_\\ast$, we can view this as an optimization problem with cost function $C_\\text{total}$ and tunable parameter $p_\\ast$.\n",
    "Of course some true positives can still churn, hence the approximation.\n",
    "A more detailed model could maximize *expected* profits, factoring in the reduction in churn probability due to a retention strategy.\n",
    "The probabilities could be informed by the logistic regression model or, even better, by empirical effectiveness in the past.\n",
    "\n",
    "Regarding the second avenue, it is straightforward to batch train using SageMaker Batch Transform, which just invokes the `tranformer()` method instead of `deploy()` on the scikit-learn estimator `model`.\n",
    "Automatically retraining, deploying, and batch transforming the data periodically would need to integrate other AWS tools, e.g. Step Functions and AWS Lambda.\n",
    "\n",
    "Finally, there are multiple ways to improve the model.\n",
    "I have assumed an *additive* model, meaning that there are no interaction effects between pairs of predictors.\n",
    "It's possible there are synergistic effects, e.g. customers who have phone and internet service as a bundle may be less likely to churn than expected from their individual effects.\n",
    "We could also model the numeric variables more flexibly rather than assuming a single linear term, e.g. perhaps there is a critical `tenure` value after which there are diminishing returns.\n",
    "These modifications would make the model harder to interpret, but gains in predictive accuracy may be worth it.\n",
    "\n",
    "It could also be useful to collect time data pinpointing when customers churn, and not just whether they did in the past quarter.\n",
    "Customers who have already churned would still be useful data points in such a *survival analysis* model.\n",
    "This may be a more efficient use of data and allow us to predict *when* a customer is expected to churn."
   ]
  }
 ],
 "metadata": {
  "jupytext": {
   "text_representation": {
    "extension": ".py",
    "format_name": "percent"
   }
  },
  "kernelspec": {
   "display_name": "Python 3.7.6",
   "language": "python",
   "name": "python3"
  },
  "language_info": {
   "codemirror_mode": {
    "name": "ipython",
    "version": 3
   },
   "file_extension": ".py",
   "mimetype": "text/x-python",
   "name": "python",
   "nbconvert_exporter": "python",
   "pygments_lexer": "ipython3",
   "version": "3.9.13"
  }
 },
 "nbformat": 4,
 "nbformat_minor": 5
}