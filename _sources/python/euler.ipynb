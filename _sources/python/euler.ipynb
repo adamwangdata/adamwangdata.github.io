{
 "cells": [
  {
   "cell_type": "code",
   "execution_count": null,
   "id": "eb1434eb",
   "metadata": {},
   "outputs": [],
   "source": [
    "\n"
   ]
  },
  {
   "cell_type": "markdown",
   "id": "5ae8da91",
   "metadata": {
    "tags": [
     "remove-cell"
    ],
    "title": "Macros Setup"
   },
   "source": [
    "$$\n",
    "\\newcommand{\\parens}[1]{\\mathopen{}\\left(#1\\right)\\mathclose{}}\n",
    "\\newcommand{\\bracks}[1]{\\mathopen{}\\left[#1\\right]\\mathclose{}}\n",
    "\\newcommand{\\braces}[1]{\\mathopen{}\\left\\{#1\\right\\}\\mathclose{}}\n",
    "\\newcommand{\\abs}[1]{\\mathopen{}\\left\\lvert#1\\right\\rvert\\mathclose{}}\n",
    "\\newcommand{\\norm}[1]{\\mathopen{}\\left\\lVert#1\\right\\rVert\\mathclose{}}\n",
    "\\renewcommand{\\vec}[1]{\\boldsymbol{\\mathbf{#1}}}\n",
    "\\newcommand{\\mat}[1]{\\mathbf{#1}}\n",
    "\\newcommand{\\tpose}[1]{#1^T}\n",
    "\\newcommand{\\inv}[1]{#1^{-1}}\n",
    "\\newcommand{\\Matrix}[1]{\n",
    "  \\begin{bmatrix}\n",
    "    #1\n",
    "  \\end{bmatrix}\n",
    "}\n",
    "\\newcommand{\\seq}[1]{1, 2, \\ldots, #1}\n",
    "\\newcommand{\\reals}{\\mathbb{R}}\n",
    "\\newcommand{\\mper}{\\,\\text{.}}\n",
    "\\newcommand{\\mcom}{\\,\\text{,}}\n",
    "$$"
   ]
  },
  {
   "cell_type": "markdown",
   "id": "4bde766a",
   "metadata": {
    "cell_marker": "\"\"\""
   },
   "source": [
    "# Project Euler\n",
    "\n",
    "[Project Euler](https://projecteuler.net/about) is a series of computational problems that, generally speaking, can be solved by a computer in less than a minute.\n",
    "At least, that was my goal when solving them.\n",
    "\n",
    "```{margin}\n",
    "The magic 100 number may also have been motivated by [Wes McKinney's blog post](https://wesmckinney.com/blog/im-moving-to-san-francisco-and-hiring/) where he gives \"Extra points if you have [solved 100 or more problems on Project Euler]\".\n",
    "```\n",
    "Occasionally the simplest brute force algorithm works, but often clever modifications are required.\n",
    "In many cases, advanced mathematics (e.g. number theory) is required, which is why I stopped after 100 problems.\n",
    "You can find my all 100 of my solutions [here](https://github.com/adamwangdata/adamwangdata.github.io/tree/main/python-examples), but I thought I'd highlight a few particularly interesting ones.\n",
    "\n",
    "## Problem 96: Sudoku\n",
    "\n",
    "[Problem 96](https://projecteuler.net/problem=96) is one of my favorites.\n",
    "The goal is to solve a [Sudoku](https://en.wikipedia.org/wiki/Sudoku) puzzle algorithmically.\n",
    "The crude brute force method is obviously too slow, but the space of possible valid solutions can be drastically reduced by applying the constraints of the game: each digit 1 to 9 must be present in each row, column, and 3 by 3 subgrid.\n",
    "I settled on an algorithm that systematically fills one digit at a time with a candidate solution, i.e. one that satisfies the Sudoku constraints.\n",
    "It keeps on filling digits until either the grid is complete, meaning the puzzle has been solved, or no candidate solutions exist.\n",
    "In the latter case, the algorithm must backtrack to a previous state that could have more candidate solutions, and continue its search.\n",
    "I implemented this guess and backtrack via recursion.\n",
    "\n",
    "```{margin}\n",
    "The current puzzle was designed to be difficult (for humans, at least) by mathematician Arto Inkala, taken from [this article](https://www.telegraph.co.uk/news/science/science-news/9359579/Worlds-hardest-sudoku-can-you-crack-it.html).\n",
    "```\n",
    "Given a 3 by 3 `numpy` array representing a Sudoku grid, the following `solve_sudoku()` function prints the solution if it is solvable.\n",
    "```{note}\n",
    "You can try out the code without leaving this page!\n",
    "Hover over the {fa}`rocket` launch button at the top of this page, then click the {guilabel}`Live Code` button.\n",
    "You can even modify the code so if you're having trouble with a Sudoku puzzle, just modify `puzzle` to your liking. Zeros are interpreted as empty cells.\n",
    "```"
   ]
  },
  {
   "cell_type": "code",
   "execution_count": null,
   "id": "18b21723",
   "metadata": {},
   "outputs": [],
   "source": [
    "\n",
    "import numpy as np\n",
    "\n",
    "def solve_sudoku(grid, print_sol=False):\n",
    "    \"\"\"Solve a Sudoku grid using backtracking, assuming a\n",
    "    unique solution is defined. grid is updated in-place.\"\"\"\n",
    "    n_empty = 0  # Count empty entries as we search through the grid.\n",
    "\n",
    "    # 4 loops to easily index each of 9 rows, columns, and 3x3 grids.\n",
    "    # Start searching in top-left 3x3 grid.\n",
    "    for row in range(3):\n",
    "        for col in range(3):\n",
    "            for subrow in range(3*row, 3*(row+1)):\n",
    "                for subcol in range(3*col, 3*(col+1)):\n",
    "\n",
    "                    # Fill empty entries.\n",
    "                    if grid[subrow, subcol] == 0:\n",
    "                        n_empty += 1\n",
    "\n",
    "                        # For possible solutions satisfying Sudoku constraints,\n",
    "                        # recursively continuing search with updated grid.\n",
    "                        # Backtrack if necessary.\n",
    "                        for sol in range(1, 10):\n",
    "                            if is_not_possible_sol(sol, grid,\n",
    "                                                   row, col, subrow, subcol):\n",
    "                                continue\n",
    "                            else:  # sol may be a valid solution.\n",
    "                                grid[subrow, subcol] = sol\n",
    "                                if solve_sudoku(grid, print_sol):\n",
    "                                    return True\n",
    "                                else:  # No solution found; backtrack.\n",
    "                                    grid[subrow, subcol] = 0\n",
    "                        return False  # No possible solutions found; terminate\n",
    "                                      # this branch and backtrack.\n",
    "\n",
    "    # If no empty entries counted (grid is complete), return True.\n",
    "    is_solvable = (n_empty == 0)\n",
    "    if is_solvable:\n",
    "        if print_sol:\n",
    "            print(grid)\n",
    "    else:\n",
    "        print(\"No solution found.\")\n",
    "    return is_solvable\n",
    "\n",
    "def is_not_possible_sol(sol, grid, row, col, subrow, subcol):\n",
    "    \"\"\"Determine if sol may fill element grid[subrow, subcol] given Sudoku\n",
    "    constraints.\"\"\"\n",
    "    return (   sol in grid[subrow, :]\n",
    "            or sol in grid[:, subcol]\n",
    "            or sol in grid[3*row:3*(row+1), 3*col:3*(col+1)]\n",
    "            )\n",
    "\n",
    "# Initialize a puzzle. Zeros represent empty cells.\n",
    "puzzle = \"\"\"800000000\n",
    "            003600000\n",
    "            070090200\n",
    "            050007000\n",
    "            000045700\n",
    "            000100030\n",
    "            001000068\n",
    "            008500010\n",
    "            090000400\"\"\"\n",
    "\n",
    "# Convert string puzzle to 9x9 numpy array of integers.\n",
    "puzzle = puzzle.split(\"\\n\")\n",
    "for i in range(len(puzzle)):\n",
    "    line = puzzle[i].strip()\n",
    "    puzzle[i] = [int(char) for char in line]\n",
    "grid = np.array(puzzle)\n",
    "print(grid)\n",
    "\n",
    "# Solve the puzzle!\n",
    "solve_sudoku(grid, print_sol=True);"
   ]
  },
  {
   "cell_type": "markdown",
   "id": "2f873c29",
   "metadata": {
    "cell_marker": "\"\"\""
   },
   "source": [
    "## Another problem\n",
    "\n",
    "## And one more"
   ]
  }
 ],
 "metadata": {
  "kernelspec": {
   "display_name": "Python 3.7.6 (Portfolio)",
   "language": "python",
   "name": "portfolio"
  }
 },
 "nbformat": 4,
 "nbformat_minor": 5
}
